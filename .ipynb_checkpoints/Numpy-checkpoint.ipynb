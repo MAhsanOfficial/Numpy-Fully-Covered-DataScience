{
 "cells": [
  {
   "cell_type": "markdown",
   "id": "00f73fb7-6efe-4442-a580-504e25382b95",
   "metadata": {},
   "source": [
    "# Numpy Array and Basics"
   ]
  },
  {
   "cell_type": "code",
   "execution_count": 1,
   "id": "b9565975-e2f4-4ea2-8523-3efa9cac7144",
   "metadata": {},
   "outputs": [],
   "source": [
    "import numpy as np"
   ]
  },
  {
   "cell_type": "markdown",
   "id": "c3ef9e1b-a548-478d-a48c-446c9957efb7",
   "metadata": {},
   "source": [
    "### Creating Array From List"
   ]
  },
  {
   "cell_type": "code",
   "execution_count": 4,
   "id": "5d762a51-1675-4f1f-ae0d-c0e7a5eb78ad",
   "metadata": {},
   "outputs": [
    {
     "name": "stdout",
     "output_type": "stream",
     "text": [
      "1D Array: [1 2 3]\n"
     ]
    }
   ],
   "source": [
    "arr_1d = np.array([1,2,3])\n",
    "print('1D Array:', arr_1d)"
   ]
  },
  {
   "cell_type": "code",
   "execution_count": 5,
   "id": "5853d282-2da7-48c2-a6fe-00736c6ea829",
   "metadata": {},
   "outputs": [
    {
     "name": "stdout",
     "output_type": "stream",
     "text": [
      "2D Array: [[1 2 3]\n",
      " [4 5 6]]\n"
     ]
    }
   ],
   "source": [
    "arr_2d = np.array([[1,2,3],[4,5,6]])\n",
    "print('2D Array:', arr_2d)"
   ]
  },
  {
   "cell_type": "code",
   "execution_count": 6,
   "id": "0b34f861-49fc-4741-81ea-7da7c1855003",
   "metadata": {},
   "outputs": [],
   "source": [
    "# List vs Numpy Array"
   ]
  },
  {
   "cell_type": "code",
   "execution_count": 7,
   "id": "58357957-6b02-4fc4-981f-5fd7f4185420",
   "metadata": {},
   "outputs": [
    {
     "name": "stdout",
     "output_type": "stream",
     "text": [
      "Python List Multiplication : [1, 2, 3, 4, 1, 2, 3, 4]\n"
     ]
    }
   ],
   "source": [
    "py_list= [1,2,3,4]\n",
    "print(\"Python List Multiplication :\", py_list * 2)"
   ]
  },
  {
   "cell_type": "raw",
   "id": "ba7cd336-e1a3-440c-a2d1-d7387184ad4d",
   "metadata": {},
   "source": [
    "np_array  = np.array([1,2,3,4])                              # Element vise Multiplication\n",
    "print(\"Python List Multiplication :\", np_array * 2)"
   ]
  },
  {
   "cell_type": "code",
   "execution_count": 8,
   "id": "71105e0f-eb4e-4d04-a205-22c496f42d96",
   "metadata": {},
   "outputs": [],
   "source": [
    "import time"
   ]
  },
  {
   "cell_type": "code",
   "execution_count": 9,
   "id": "389040d1-b0e2-423a-b56e-d5e030609614",
   "metadata": {},
   "outputs": [],
   "source": [
    "start = time.time()"
   ]
  },
  {
   "cell_type": "code",
   "execution_count": 10,
   "id": "de4b2e71-3614-4fda-8d1f-1ab24cb609aa",
   "metadata": {},
   "outputs": [],
   "source": [
    "py_list  = [i*3 for i in range(100000)]"
   ]
  },
  {
   "cell_type": "code",
   "execution_count": 11,
   "id": "80019e13-268c-43a6-8ea0-443c956d77f7",
   "metadata": {},
   "outputs": [
    {
     "name": "stdout",
     "output_type": "stream",
     "text": [
      "\n",
      " List Operation Time : 0.05772757530212402\n",
      "\n",
      " Numpy Operation Time : 0.010984182357788086\n"
     ]
    }
   ],
   "source": [
    "print('\\n List Operation Time :' , time.time() - start)\n",
    "start =  time.time()\n",
    "np_array =  np.arange(1000000)*2\n",
    "print(\"\\n Numpy Operation Time :\", time.time()-start)"
   ]
  },
  {
   "cell_type": "markdown",
   "id": "fa66e38d-a314-403a-b6f8-ecfc62f99de6",
   "metadata": {},
   "source": [
    "### Creating Array From Scratch"
   ]
  },
  {
   "cell_type": "code",
   "execution_count": 13,
   "id": "47ad860d-f15f-4e41-87c1-6f96a2959623",
   "metadata": {},
   "outputs": [
    {
     "name": "stdout",
     "output_type": "stream",
     "text": [
      "Zeros Array \n",
      " [[0. 0. 0. 0.]\n",
      " [0. 0. 0. 0.]\n",
      " [0. 0. 0. 0.]]\n"
     ]
    }
   ],
   "source": [
    "zeros  =  np.zeros((3, 4))\n",
    "print(\"Zeros Array \\n\", zeros)"
   ]
  },
  {
   "cell_type": "code",
   "execution_count": 14,
   "id": "910f2c91-706c-4625-9b0b-d0aa15c1f0ec",
   "metadata": {},
   "outputs": [
    {
     "name": "stdout",
     "output_type": "stream",
     "text": [
      "Ones Array \n",
      " [[1. 1. 1. 1.]\n",
      " [1. 1. 1. 1.]\n",
      " [1. 1. 1. 1.]]\n"
     ]
    }
   ],
   "source": [
    "ones  = np.ones((3,4))\n",
    "print(\"Ones Array \\n\", ones)"
   ]
  },
  {
   "cell_type": "code",
   "execution_count": 15,
   "id": "a6823a9c-7145-4d13-9844-962e567daf32",
   "metadata": {},
   "outputs": [
    {
     "name": "stdout",
     "output_type": "stream",
     "text": [
      "Full Array \n",
      " [[7 7]\n",
      " [7 7]]\n"
     ]
    }
   ],
   "source": [
    "full  =  np.full((2,2),7)\n",
    "print(\"Full Array \\n\", full)"
   ]
  },
  {
   "cell_type": "code",
   "execution_count": 16,
   "id": "261e27fc-dbcf-461e-826b-85a6379f3eb7",
   "metadata": {},
   "outputs": [
    {
     "name": "stdout",
     "output_type": "stream",
     "text": [
      "Random Array \n",
      " [[0.85567686 0.49180173 0.83153488]\n",
      " [0.05962266 0.2483235  0.0783535 ]]\n"
     ]
    }
   ],
   "source": [
    "random  = np.random.random(( 2,3))\n",
    "print(\"Random Array \\n\", random)"
   ]
  },
  {
   "cell_type": "code",
   "execution_count": 17,
   "id": "b3dd66fd-6d22-4162-b6ee-8ae1b64d868f",
   "metadata": {},
   "outputs": [
    {
     "name": "stdout",
     "output_type": "stream",
     "text": [
      "Sequance Array \n",
      " [0 2 4 6 8]\n"
     ]
    }
   ],
   "source": [
    "sequance  = np.arange(0,10,2)\n",
    "print(\"Sequance Array \\n\", sequance)"
   ]
  },
  {
   "cell_type": "code",
   "execution_count": null,
   "id": "245a0b2d-6fd6-4440-b11a-2609dbbffad9",
   "metadata": {},
   "outputs": [],
   "source": []
  },
  {
   "cell_type": "markdown",
   "id": "745ba00d-6c0f-482d-b961-9bfae7e0cd39",
   "metadata": {},
   "source": [
    "# Vector  , Matrice , Tensor"
   ]
  },
  {
   "cell_type": "markdown",
   "id": "1354b92c-e9fb-44c3-8b5f-c529ebbfe855",
   "metadata": {},
   "source": [
    "###  Vector :\n"
   ]
  },
  {
   "cell_type": "code",
   "execution_count": 21,
   "id": "22e12c4c-75ce-46c2-a472-9d79939f1eaa",
   "metadata": {},
   "outputs": [
    {
     "name": "stdout",
     "output_type": "stream",
     "text": [
      "Vector \n",
      " [1 2 3]\n"
     ]
    }
   ],
   "source": [
    "vector  =  np.array([1,2,3])\n",
    "print(\"Vector \\n\", vector)"
   ]
  },
  {
   "cell_type": "markdown",
   "id": "ae9b85e6-c67d-41d2-858c-d32fbc31b398",
   "metadata": {},
   "source": [
    "### Matrice"
   ]
  },
  {
   "cell_type": "code",
   "execution_count": 23,
   "id": "9b44eef9-4c96-4661-a59f-89bbce10b426",
   "metadata": {},
   "outputs": [
    {
     "name": "stdout",
     "output_type": "stream",
     "text": [
      "Matrice \n",
      " [[1 2 3]\n",
      " [4 5 6]]\n"
     ]
    }
   ],
   "source": [
    "matrice  = np.array([[1,2,3],[4,5,6]])\n",
    "print(\"Matrice \\n\", matrice)\n"
   ]
  },
  {
   "cell_type": "markdown",
   "id": "32bf8452-e603-4777-b0d3-ae2dad4eebed",
   "metadata": {},
   "source": [
    "### Tensor :\n"
   ]
  },
  {
   "cell_type": "code",
   "execution_count": 25,
   "id": "f7da94e5-52e6-42de-9901-ff71b93186d0",
   "metadata": {},
   "outputs": [
    {
     "name": "stdout",
     "output_type": "stream",
     "text": [
      "Tensor \n",
      " [[[1 2]\n",
      "  [3 4]]\n",
      "\n",
      " [[5 6]\n",
      "  [7 8]]]\n"
     ]
    }
   ],
   "source": [
    "tensor  = np.array([[[1,2],[3,4]],\n",
    "                   [[5,6],[7,8]]])\n",
    "print(\"Tensor \\n\", tensor)\n"
   ]
  },
  {
   "cell_type": "markdown",
   "id": "5908a264-9052-4799-bf18-b716d3d74bf4",
   "metadata": {},
   "source": [
    "## Array Properties"
   ]
  },
  {
   "cell_type": "code",
   "execution_count": 27,
   "id": "a6c4c874-a6fa-442c-90c9-97ec262667ff",
   "metadata": {},
   "outputs": [
    {
     "name": "stdout",
     "output_type": "stream",
     "text": [
      "Shape of Array:  (2, 3)\n",
      "Dimension of Array:  2\n",
      "Size:  6\n",
      "Data Type:  int32\n"
     ]
    }
   ],
   "source": [
    "arr  =  np.array([[1,2,3],\n",
    "                 [4,5,6]])\n",
    "print(\"Shape of Array: \", arr.shape)\n",
    "print(\"Dimension of Array: \", arr.ndim)\n",
    "print(\"Size: \", arr.size)\n",
    "print(\"Data Type: \", arr.dtype)\n"
   ]
  },
  {
   "cell_type": "markdown",
   "id": "e7f5d041-09db-449d-a6d4-65f02bfe91a3",
   "metadata": {},
   "source": [
    "##  Array Re-Shapping"
   ]
  },
  {
   "cell_type": "code",
   "execution_count": 29,
   "id": "e53569f7-55c6-4329-b460-3b50c17057ce",
   "metadata": {},
   "outputs": [
    {
     "name": "stdout",
     "output_type": "stream",
     "text": [
      "Original Array  [ 0  1  2  3  4  5  6  7  8  9 10 11]\n"
     ]
    }
   ],
   "source": [
    "arr  = np.arange(12)\n",
    "print(\"Original Array \", arr)"
   ]
  },
  {
   "cell_type": "code",
   "execution_count": 30,
   "id": "0ea4bb75-cd67-4ef8-97f1-5f8953e34b8c",
   "metadata": {},
   "outputs": [
    {
     "name": "stdout",
     "output_type": "stream",
     "text": [
      "Reshaped Array  [[ 0  1  2  3]\n",
      " [ 4  5  6  7]\n",
      " [ 8  9 10 11]]\n"
     ]
    }
   ],
   "source": [
    "reshaped  = arr.reshape((3,4))\n",
    "print(\"Reshaped Array \", reshaped)"
   ]
  },
  {
   "cell_type": "code",
   "execution_count": 31,
   "id": "49617b33-e0b4-4c49-a06e-7161f73519df",
   "metadata": {},
   "outputs": [
    {
     "ename": "SyntaxError",
     "evalue": "invalid syntax (3879009581.py, line 1)",
     "output_type": "error",
     "traceback": [
      "\u001b[1;36m  Cell \u001b[1;32mIn[31], line 1\u001b[1;36m\u001b[0m\n\u001b[1;33m    flattened = reshaped.flatten()haped\u001b[0m\n\u001b[1;37m                                  ^\u001b[0m\n\u001b[1;31mSyntaxError\u001b[0m\u001b[1;31m:\u001b[0m invalid syntax\n"
     ]
    }
   ],
   "source": [
    "\n",
    "flattened = reshaped.flatten()haped\n",
    "print(\"Flattened Array \", flattened)"
   ]
  },
  {
   "cell_type": "code",
   "execution_count": null,
   "id": "93a5f695-816d-4e04-944b-288878b3860f",
   "metadata": {},
   "outputs": [],
   "source": [
    "# Ravel  (return view, instead of copy)\n",
    "\n",
    "raveled = reshaped.ravel()\n",
    "print('\\n Raveled Array ', raveled)"
   ]
  },
  {
   "cell_type": "code",
   "execution_count": null,
   "id": "fe69c50a-4c4e-4cae-8982-a8986df994bb",
   "metadata": {},
   "outputs": [],
   "source": [
    "# Transpose \n",
    "\n",
    "transpose  =  reshaped.T\n",
    "print('\\n Transpose Array ', transpose)"
   ]
  },
  {
   "cell_type": "code",
   "execution_count": null,
   "id": "36660577-88a2-40a0-ac4d-1e4438d0a6eb",
   "metadata": {},
   "outputs": [],
   "source": []
  },
  {
   "cell_type": "code",
   "execution_count": null,
   "id": "2192e56a-6a55-4eb4-9b7e-534cc10b07dd",
   "metadata": {},
   "outputs": [],
   "source": []
  },
  {
   "cell_type": "code",
   "execution_count": null,
   "id": "9ec2f330-476c-40bb-8289-01d13a785f7c",
   "metadata": {},
   "outputs": [],
   "source": []
  },
  {
   "cell_type": "markdown",
   "id": "0404b658-efdd-4125-a498-bcd9967c30bb",
   "metadata": {},
   "source": [
    "# Phase 2 Numpy \n"
   ]
  },
  {
   "cell_type": "markdown",
   "id": "7d08262b-76ec-4776-a381-6b9e8ac390df",
   "metadata": {},
   "source": [
    "## Numpy Array and Operations"
   ]
  },
  {
   "cell_type": "code",
   "execution_count": null,
   "id": "810c31b6-16b1-43d5-a627-0aa0906baf32",
   "metadata": {},
   "outputs": [],
   "source": [
    "import numpy as np"
   ]
  },
  {
   "cell_type": "code",
   "execution_count": null,
   "id": "86485694-b95a-4592-a227-9fe5bfda8ea3",
   "metadata": {},
   "outputs": [],
   "source": [
    "arr =  np.array([1,2,3,4,5,6,7,8,9])\n",
    "print(\"Basic Slicing\",arr[2:7])\n",
    "print(\"With Step\", arr[1:8:2])\n",
    "print(\"Negative Indexing\",  arr[-3])"
   ]
  },
  {
   "cell_type": "code",
   "execution_count": null,
   "id": "21e61639-dc63-453e-ba2e-0de1f087e8c0",
   "metadata": {},
   "outputs": [],
   "source": [
    "arr_2d = np.array([[1,2,3],\n",
    "                   [4,5,6],\n",
    "                   [7,8,9]])\n",
    "print(\"Specific Element\",  arr_2d[1,2])\n",
    "print(\"Entire Row:\",  arr_2d[1])\n",
    "print(\"Entire Row:\",  arr_2d[:,1])\n"
   ]
  },
  {
   "cell_type": "markdown",
   "id": "ccfc35bf-a3ba-4ea9-b0ce-14af377fbe68",
   "metadata": {},
   "source": [
    "### Sorting "
   ]
  },
  {
   "cell_type": "code",
   "execution_count": null,
   "id": "3909e392-c742-469c-920e-7e975ae2a27c",
   "metadata": {},
   "outputs": [],
   "source": [
    "unsorted =  np.array([3,1,4,1,5,9,2,6])\n",
    "print(\"Sorting Value : \", np.sort(unsorted))"
   ]
  },
  {
   "cell_type": "code",
   "execution_count": null,
   "id": "d91ee22b-1fe1-45ec-917d-551e7de02aad",
   "metadata": {},
   "outputs": [],
   "source": [
    "arr_2d_unsorted = np.array([[3,1],[1,2],[2,3]])\n",
    "print(\"Sorted 2D Array By Coloums\",np.sort(arr_2d_unsorted,axis=0)) # Full array Sort\n",
    "print(\"Sorted 2D Array By Coloums\",np.sort(arr_2d_unsorted,axis=1)) # One and Single array Sort"
   ]
  },
  {
   "cell_type": "markdown",
   "id": "f860be9c-3b02-46b5-a9be-e8191f6e04f2",
   "metadata": {},
   "source": [
    "### Filter "
   ]
  },
  {
   "cell_type": "code",
   "execution_count": null,
   "id": "ec23a9f5-a05c-42a2-889b-df9ed7317010",
   "metadata": {},
   "outputs": [],
   "source": [
    "numbers  = np.array([1,2,3,4,5,6,7,8,9,10])\n",
    "even_number  = numbers[numbers % 2 == 0]\n",
    "print(\"Even Number: \", even_number)"
   ]
  },
  {
   "cell_type": "markdown",
   "id": "07fa2d46-621b-43dc-a071-0f1f3cf6693b",
   "metadata": {},
   "source": [
    "## Filter with Mask"
   ]
  },
  {
   "cell_type": "code",
   "execution_count": null,
   "id": "4ed803d2-4e90-4238-b0e6-7c9ca4d18bd3",
   "metadata": {},
   "outputs": [],
   "source": [
    "mask =  numbers  > 5\n",
    "print(\"Number Greater than 5 \", numbers[mask])"
   ]
  },
  {
   "cell_type": "markdown",
   "id": "6a3258d2-f47b-4bc4-a292-a2f45bf6e71c",
   "metadata": {},
   "source": [
    "##  Fancy Indexing VS np.where()"
   ]
  },
  {
   "cell_type": "code",
   "execution_count": null,
   "id": "4352fe5e-f5e8-4345-8493-be593588f18a",
   "metadata": {},
   "outputs": [],
   "source": [
    "indices = [0,2,4]\n",
    "print(numbers[indices])"
   ]
  },
  {
   "cell_type": "code",
   "execution_count": null,
   "id": "e12e30ab-86f4-429c-8f83-40bd79fcd18b",
   "metadata": {},
   "outputs": [],
   "source": [
    "where_result = np.where(numbers > 5)\n",
    "print(where_result)\n",
    "print(\"NP where :\", numbers[where_result])"
   ]
  },
  {
   "cell_type": "markdown",
   "id": "b91adcb5-1308-4a54-872c-28837d432486",
   "metadata": {},
   "source": [
    "# Condition Array"
   ]
  },
  {
   "cell_type": "code",
   "execution_count": null,
   "id": "b1ba2044-0449-4252-a918-7bfabde9e2bb",
   "metadata": {},
   "outputs": [],
   "source": [
    "condition_array = np.where(numbers > 5,\"true\", \"false\")\n",
    "print(\"Condtion Array : \", condition_array)"
   ]
  },
  {
   "cell_type": "markdown",
   "id": "88690721-d015-4b10-9be0-bf44ec812b52",
   "metadata": {},
   "source": [
    "##  Adding and Removing Data"
   ]
  },
  {
   "cell_type": "code",
   "execution_count": null,
   "id": "0aa9b08f-13f6-4475-8420-3addeb4685f6",
   "metadata": {},
   "outputs": [],
   "source": [
    "arr1 = np.array([1,2,3])\n",
    "arr2 = np.array([4,5,6])\n",
    "# Combined merged\n",
    "combined = np.concatenate((arr1,arr2))\n",
    "combined"
   ]
  },
  {
   "cell_type": "markdown",
   "id": "21a34ea3-4c2e-4b8e-9eb5-5a4042d73e77",
   "metadata": {},
   "source": [
    "### Array Compability"
   ]
  },
  {
   "cell_type": "code",
   "execution_count": null,
   "id": "57954781-1734-42ab-ab0c-53daae210442",
   "metadata": {},
   "outputs": [],
   "source": [
    "a  = np.array([1,2,3])\n",
    "b = np.array([4,5,6])\n",
    "c  = np.array([7,8,9])\n",
    "print(\"Compbility Shapes\", a.shape == b.shape)\n"
   ]
  },
  {
   "cell_type": "code",
   "execution_count": null,
   "id": "2c0c9dce-8852-47f2-88e0-f7ead5d6a13f",
   "metadata": {},
   "outputs": [],
   "source": [
    "original = np.array([[1,2],[3,4]])\n",
    "new_row = np.array([[5,6]])\n",
    "with_new_row  = np.vstack((original,new_row))\n",
    "print(\"Orginal:\",original)\n",
    "print(\"With new Row:\",with_new_row)\n",
    "new_col = np.array([[7],[8]])\n",
    "with_new_col = np.hstack((original,new_col))\n",
    "print(\"With new Coloums:\",with_new_col)"
   ]
  },
  {
   "cell_type": "code",
   "execution_count": null,
   "id": "e958b301-f726-45c8-8483-49e21dac0d25",
   "metadata": {},
   "outputs": [],
   "source": [
    "arr = np.array([1,2,3,4,5])\n",
    "deleted = np.delete(arr,2)\n",
    "print(\"Deleted:\",deleted)"
   ]
  },
  {
   "cell_type": "code",
   "execution_count": null,
   "id": "99058c7b-1a0e-4e46-847b-2883ce57cb52",
   "metadata": {},
   "outputs": [],
   "source": []
  },
  {
   "cell_type": "code",
   "execution_count": null,
   "id": "50d010fc-10c0-4bae-91b1-e71cd6cdb345",
   "metadata": {},
   "outputs": [],
   "source": []
  },
  {
   "cell_type": "code",
   "execution_count": null,
   "id": "e463977e-d58b-4019-b4ab-911fdd72c279",
   "metadata": {},
   "outputs": [],
   "source": []
  },
  {
   "cell_type": "code",
   "execution_count": null,
   "id": "955ba59e-94bd-40cb-93c5-4e4f1bd775a3",
   "metadata": {},
   "outputs": [],
   "source": []
  },
  {
   "cell_type": "markdown",
   "id": "2bb6e9e8-7827-4132-a2f3-126eccc08533",
   "metadata": {},
   "source": [
    "# WScube Tech Numpy"
   ]
  },
  {
   "cell_type": "markdown",
   "id": "f2427726-715a-41ea-a345-c81590d33b74",
   "metadata": {},
   "source": [
    "## Numpy Array and Python List Differce"
   ]
  },
  {
   "cell_type": "code",
   "execution_count": 3,
   "id": "e02cc15b-fc31-4143-977d-e1b4a53035c3",
   "metadata": {},
   "outputs": [],
   "source": [
    " import numpy as np"
   ]
  },
  {
   "cell_type": "code",
   "execution_count": 7,
   "id": "6d9f667b-30c0-4217-90f0-fe7bfc938710",
   "metadata": {},
   "outputs": [
    {
     "name": "stdout",
     "output_type": "stream",
     "text": [
      "[1 2 3 4 5]\n",
      "<class 'numpy.ndarray'>\n",
      "1\n"
     ]
    }
   ],
   "source": [
    "# Numpy Array\n",
    "x= np.array([1,2,3,4,5])\n",
    "print(x)\n",
    "print(type(x))\n",
    "print(x.ndim)"
   ]
  },
  {
   "cell_type": "code",
   "execution_count": 9,
   "id": "b75aed0d-9962-4dea-b904-8a27f54ba476",
   "metadata": {},
   "outputs": [
    {
     "name": "stdout",
     "output_type": "stream",
     "text": [
      "[1, 2, 3, 4, 5]\n",
      "<class 'list'>\n"
     ]
    }
   ],
   "source": [
    "# Python List\n",
    "y= [1,2,3,4,5]\n",
    "print(y)\n",
    "print(type(y))"
   ]
  },
  {
   "cell_type": "code",
   "execution_count": 11,
   "id": "c11b7afe-46cf-48cd-bbac-4695f3070381",
   "metadata": {},
   "outputs": [
    {
     "name": "stdout",
     "output_type": "stream",
     "text": [
      "1.88 μs ± 85.9 ns per loop (mean ± std. dev. of 7 runs, 1,000,000 loops each)\n"
     ]
    }
   ],
   "source": [
    "%timeit [j**4 for j in range(1,9)]"
   ]
  },
  {
   "cell_type": "code",
   "execution_count": 12,
   "id": "ed5a1378-2c00-4c2c-abd2-12ea502b809a",
   "metadata": {},
   "outputs": [],
   "source": [
    "import numpy as np\n"
   ]
  },
  {
   "cell_type": "code",
   "execution_count": 13,
   "id": "319deb41-2827-4866-9357-ff75f1e1ae16",
   "metadata": {},
   "outputs": [
    {
     "name": "stdout",
     "output_type": "stream",
     "text": [
      "6.44 μs ± 594 ns per loop (mean ± std. dev. of 7 runs, 100,000 loops each)\n"
     ]
    }
   ],
   "source": [
    "%timeit np.arange(1,9)**4"
   ]
  },
  {
   "cell_type": "markdown",
   "id": "e4a4e39d-84ba-43a5-bc8e-d7153221f648",
   "metadata": {},
   "source": [
    "# Array Numpy"
   ]
  },
  {
   "cell_type": "code",
   "execution_count": 15,
   "id": "58ca54d8-7151-4970-b01d-fcb7c7ca9c55",
   "metadata": {},
   "outputs": [
    {
     "name": "stdout",
     "output_type": "stream",
     "text": [
      "<class 'numpy.ndarray'>\n",
      "[1 2 3 4 5]\n"
     ]
    }
   ],
   "source": [
    "x = [1,2,3,4,5]\n",
    "y = np.array(x)\n",
    "y = np.array([1,2,3,4,5])\n",
    "print(type(y))\n",
    "print(y)"
   ]
  },
  {
   "cell_type": "code",
   "execution_count": 17,
   "id": "c848a3f5-aebf-4e6e-8f2d-c682202d10c2",
   "metadata": {},
   "outputs": [
    {
     "name": "stdout",
     "output_type": "stream",
     "text": [
      "Enter : 2\n",
      "Enter : 2\n",
      "Enter : 2\n",
      "Enter : 2\n"
     ]
    },
    {
     "name": "stdout",
     "output_type": "stream",
     "text": [
      "[2 2 2 2]\n"
     ]
    }
   ],
   "source": [
    "l = []\n",
    "for i in range(1,5):\n",
    "    int_1 = int(input(\"Enter :\"))\n",
    "    l.append(int_1)\n",
    "print(np.array(l))"
   ]
  },
  {
   "cell_type": "code",
   "execution_count": null,
   "id": "f7eda10a-32b4-4bef-b961-c792269c78f9",
   "metadata": {},
   "outputs": [],
   "source": [
    "ar2  =  np.array([[1,2,3,4],[1,2,3,4]])\n",
    "print(ar2)\n",
    "print(ar2.ndim)"
   ]
  },
  {
   "cell_type": "code",
   "execution_count": null,
   "id": "5ff9bd3b-e764-47ed-ac2d-8631fe038557",
   "metadata": {},
   "outputs": [],
   "source": [
    "ar3 = np.array([[[1,2,3,4],[1,2,3,4],[1,2,3,4]]])\n",
    "print(ar3)\n",
    "print(ar3.ndim)"
   ]
  },
  {
   "cell_type": "code",
   "execution_count": null,
   "id": "19267d4e-a864-4a34-a5c0-137a654f1302",
   "metadata": {},
   "outputs": [],
   "source": [
    " arn  = np.array([1,2,3,4],ndmin= 10)\n",
    "print(arn)\n",
    "print(arn.ndim)"
   ]
  },
  {
   "cell_type": "markdown",
   "id": "80dd4bff-278b-4ec1-b5b6-25e46f564669",
   "metadata": {},
   "source": [
    "## Zeros"
   ]
  },
  {
   "cell_type": "code",
   "execution_count": null,
   "id": "ffe8813d-9f03-482e-ae6f-51317ba7f7f3",
   "metadata": {},
   "outputs": [],
   "source": [
    "ar_zero = np.zeros(4)\n",
    "ar_zero1 = np.zeros((3,4))\n",
    "print(ar_zero)\n",
    "print()\n",
    "print(ar_zero1)"
   ]
  },
  {
   "cell_type": "markdown",
   "id": "ecfc6fb0-4473-49f9-b03e-004bbf2188e8",
   "metadata": {},
   "source": [
    "## Ones\n"
   ]
  },
  {
   "cell_type": "code",
   "execution_count": null,
   "id": "0c9ea2a7-1100-43e9-9e24-35c8f7f3ca8f",
   "metadata": {},
   "outputs": [],
   "source": [
    "ar_one = np.ones(4)\n",
    "print(ar_one)"
   ]
  },
  {
   "cell_type": "markdown",
   "id": "971ad091-a654-41c4-a816-3537687ba3a6",
   "metadata": {},
   "source": [
    "## Empty Array "
   ]
  },
  {
   "cell_type": "code",
   "execution_count": null,
   "id": "3812ca7d-3e32-4096-8e07-0e7a78cdb576",
   "metadata": {},
   "outputs": [],
   "source": [
    "ar_em = np.empty(4)\n",
    "print(ar_em)"
   ]
  },
  {
   "cell_type": "markdown",
   "id": "4cd15b3f-4abd-4fd1-8f8c-14bb78d7732d",
   "metadata": {},
   "source": [
    "# Arange  == Range Function Into List Convert"
   ]
  },
  {
   "cell_type": "code",
   "execution_count": null,
   "id": "1ccec2ba-9734-4677-8689-24990a12cef7",
   "metadata": {},
   "outputs": [],
   "source": [
    "ar_rn = np.arange(4)\n",
    "print(ar_rn)"
   ]
  },
  {
   "cell_type": "markdown",
   "id": "e4072aa7-c459-48dd-a99f-3d45e34a8edd",
   "metadata": {},
   "source": [
    "##  Diagnal Element Array Matrice"
   ]
  },
  {
   "cell_type": "code",
   "execution_count": null,
   "id": "8900c037-2905-410f-aa81-8fdc7db081a9",
   "metadata": {},
   "outputs": [],
   "source": [
    "ar_dia  = np.eye(3)\n",
    "print(ar_dia)"
   ]
  },
  {
   "cell_type": "code",
   "execution_count": null,
   "id": "7af48d0b-d74b-4653-88dd-b7348fb763b3",
   "metadata": {},
   "outputs": [],
   "source": [
    "ar_dia  = np.eye(3,5)\n",
    "print(ar_dia)"
   ]
  },
  {
   "cell_type": "markdown",
   "id": "61b4a87a-7a02-403b-9c93-e3766ef30fcb",
   "metadata": {},
   "source": [
    "## Line-Space"
   ]
  },
  {
   "cell_type": "code",
   "execution_count": null,
   "id": "64f7841f-775a-470b-8be6-f6edc8b2232a",
   "metadata": {},
   "outputs": [],
   "source": [
    "ar_lin =  np.linspace(1,10,num =5)\n",
    "print(ar_lin)"
   ]
  },
  {
   "cell_type": "markdown",
   "id": "8094d378-6872-4a36-89a1-250d997d7035",
   "metadata": {},
   "source": [
    "## Random Functions"
   ]
  },
  {
   "cell_type": "code",
   "execution_count": null,
   "id": "bed96ed6-23bc-40a2-abf1-77da653a722d",
   "metadata": {},
   "outputs": [],
   "source": [
    "### Rand()"
   ]
  },
  {
   "cell_type": "code",
   "execution_count": null,
   "id": "99526a25-f39c-41a4-b0fd-f1f4b96f8806",
   "metadata": {},
   "outputs": [],
   "source": [
    "var = np.random.rand(4)          # 0 and 1 Between the Number random array Numpy\n",
    "print(var)"
   ]
  },
  {
   "cell_type": "code",
   "execution_count": null,
   "id": "68531e51-db1b-4444-8a0d-a2cb4476cf89",
   "metadata": {},
   "outputs": [],
   "source": [
    "var1  = np.random.rand(2,5)\n",
    "print(var1)"
   ]
  },
  {
   "cell_type": "code",
   "execution_count": null,
   "id": "0f40fb05-dd4d-4c96-bc08-ee98c1485cd8",
   "metadata": {},
   "outputs": [],
   "source": [
    "### randn()"
   ]
  },
  {
   "cell_type": "code",
   "execution_count": null,
   "id": "451bd0af-8265-467c-9521-4675cfb86f90",
   "metadata": {},
   "outputs": [],
   "source": [
    "var2  =np.random.randn(5)                      # 0 and 1 Between the Number random array Numpy   close to zero (POsitive and Negative)\n",
    "print(var2)"
   ]
  },
  {
   "cell_type": "code",
   "execution_count": null,
   "id": "b9838311-712f-4271-981a-b8ee85efde01",
   "metadata": {},
   "outputs": [],
   "source": [
    "### ranf()"
   ]
  },
  {
   "cell_type": "code",
   "execution_count": null,
   "id": "13810ff8-361a-4596-ba0e-18ec72eb5fbf",
   "metadata": {},
   "outputs": [],
   "source": [
    "var3  = np.random.ranf(4)            # Less then one \n",
    "print(var3)"
   ]
  },
  {
   "cell_type": "code",
   "execution_count": null,
   "id": "84aaf48d-49d4-4bf7-b017-6723b0bb0b1c",
   "metadata": {},
   "outputs": [],
   "source": [
    "### randint"
   ]
  },
  {
   "cell_type": "code",
   "execution_count": null,
   "id": "4bc02345-1151-4f13-864e-79e467cd640a",
   "metadata": {},
   "outputs": [],
   "source": [
    "#var4  = np.random.randint(min,max,total_values)           # 2 Number between the random number\n",
    "var4  = np.random.randint(5,20,5)           # 2 Number between the random number\n",
    "print(var4)"
   ]
  },
  {
   "cell_type": "markdown",
   "id": "a33c68ae-d8fb-4ce2-b97a-4859123f5489",
   "metadata": {},
   "source": [
    "# Numpy Data Types "
   ]
  },
  {
   "cell_type": "code",
   "execution_count": null,
   "id": "4bc3ca46-04ac-4ee9-a02a-13d32440ea8e",
   "metadata": {},
   "outputs": [],
   "source": [
    "var  = np.array([1,2,3,4,5,6,7,8,9])\n",
    "print(\"Data Type:\", var.dtype)"
   ]
  },
  {
   "cell_type": "code",
   "execution_count": null,
   "id": "104565d2-7640-4c4b-bd0e-c5562d031780",
   "metadata": {},
   "outputs": [],
   "source": [
    "var  = np.array([1.4,2,3.3,3.3,4,5,6,7,8,9])\n",
    "print(\"Data Type:\", var.dtype)"
   ]
  },
  {
   "cell_type": "code",
   "execution_count": null,
   "id": "8f844ff1-2ac4-4e42-9056-58648d86330c",
   "metadata": {},
   "outputs": [],
   "source": [
    "var  = np.array(['a','b','c','d'])\n",
    "print(\"Data Type:\", var.dtype)"
   ]
  },
  {
   "cell_type": "code",
   "execution_count": null,
   "id": "ad6642f8-112f-4b36-a3ef-9b132c9681d6",
   "metadata": {},
   "outputs": [],
   "source": [
    "var  = np.array(['a','b','c','d',1,2,3,4])\n",
    "print(\"Data Type:\", var.dtype)"
   ]
  },
  {
   "cell_type": "code",
   "execution_count": null,
   "id": "c60f9293-598e-47b6-98e5-d9665913c524",
   "metadata": {},
   "outputs": [],
   "source": [
    "x = np.array([1,2,3,4],dtype = np.int8)\n",
    "print(\"Data Type:\", x.dtype)"
   ]
  },
  {
   "cell_type": "code",
   "execution_count": null,
   "id": "32e8dca3-2666-4935-affa-c11edb5cf30e",
   "metadata": {},
   "outputs": [],
   "source": [
    "x1= np.array([1,2,3,4],dtype =\"f\")\n",
    "print(\"Data Type:\", x1.dtype)\n",
    "print(x1)\n"
   ]
  },
  {
   "cell_type": "code",
   "execution_count": null,
   "id": "8ce02195-15d7-4458-a4a1-a7787b76d728",
   "metadata": {},
   "outputs": [],
   "source": [
    "x2= np.array([1,2,3,4])\n",
    "new = np.float32(x2)\n",
    "print(\"Data Type:\", x2.dtype)\n",
    "print(\"Data Type:\", new.dtype)\n",
    "print(x2)\n",
    "print(new)"
   ]
  },
  {
   "cell_type": "code",
   "execution_count": null,
   "id": "1b04b551-17ef-44f3-a341-839b5aa562f1",
   "metadata": {},
   "outputs": [],
   "source": [
    "x2= np.array([1,2,3,4])\n",
    "new = np.float32(x2)\n",
    "new_one  = np.int_(new)\n",
    "print(\"Data Type:\", x2.dtype)\n",
    "print(\"Data Type:\", new.dtype)\n",
    "print(\"Data Type:\", new_one.dtype)\n",
    "print(x2)\n",
    "print(new)\n",
    "print(new_one)"
   ]
  },
  {
   "cell_type": "code",
   "execution_count": 19,
   "id": "50b03f3e-eda7-495e-b6c4-f1c5cf1df0c6",
   "metadata": {},
   "outputs": [
    {
     "name": "stdout",
     "output_type": "stream",
     "text": [
      "[1 2 3 4]\n"
     ]
    }
   ],
   "source": [
    "x3= np.array([1,2,3,4])\n",
    "print(x3)"
   ]
  },
  {
   "cell_type": "markdown",
   "id": "6f7feb98-b149-4fc9-b3d9-fff7298e14a6",
   "metadata": {},
   "source": [
    "# Arthimatic Operations"
   ]
  },
  {
   "cell_type": "code",
   "execution_count": 1,
   "id": "c72a8ca2-dc90-4549-a37f-d7795dd08048",
   "metadata": {},
   "outputs": [],
   "source": [
    "import numpy as np"
   ]
  },
  {
   "cell_type": "code",
   "execution_count": 3,
   "id": "72b76cce-04a3-4b9f-aeb3-e24717dab5f0",
   "metadata": {},
   "outputs": [
    {
     "name": "stdout",
     "output_type": "stream",
     "text": [
      "[4 5 6 7]\n"
     ]
    }
   ],
   "source": [
    "var  = np.array([1,2,3,4])\n",
    "varadd= var + 3\n",
    "print(varadd)"
   ]
  },
  {
   "cell_type": "code",
   "execution_count": 4,
   "id": "419202ba-dfab-43e9-8599-4371e9c43452",
   "metadata": {},
   "outputs": [
    {
     "name": "stdout",
     "output_type": "stream",
     "text": [
      "[2 4 6 8]\n"
     ]
    }
   ],
   "source": [
    "var1  = np.array([1,2,3,4])\n",
    "var2  = np.array([1,2,3,4])\n",
    "varadd= var1 + var2\n",
    "print(varadd)"
   ]
  },
  {
   "cell_type": "code",
   "execution_count": 5,
   "id": "32454db4-02bb-4b82-80e4-b84e4ce0033e",
   "metadata": {},
   "outputs": [
    {
     "name": "stdout",
     "output_type": "stream",
     "text": [
      "[2 4 6 8]\n"
     ]
    }
   ],
   "source": [
    "var1  = np.array([1,2,3,4])\n",
    "var2  = np.array([1,2,3,4])\n",
    "varadd= np.add(var1,var2)\n",
    "print(varadd)"
   ]
  },
  {
   "cell_type": "code",
   "execution_count": 6,
   "id": "c5efc8d5-44d9-4ed1-8db7-6ad141cdbc94",
   "metadata": {},
   "outputs": [
    {
     "name": "stdout",
     "output_type": "stream",
     "text": [
      "[0 0 0 0]\n"
     ]
    }
   ],
   "source": [
    "var1  = np.array([1,2,3,4])\n",
    "var2  = np.array([1,2,3,4])\n",
    "varadd= var1 - var2\n",
    "print(varadd)\n"
   ]
  },
  {
   "cell_type": "code",
   "execution_count": 7,
   "id": "7192b214-f52e-421f-aec0-c983011d3cef",
   "metadata": {},
   "outputs": [
    {
     "name": "stdout",
     "output_type": "stream",
     "text": [
      "[-2 -1  0  1]\n"
     ]
    }
   ],
   "source": [
    "var  = np.array([1,2,3,4])\n",
    "varadd= var - 3\n",
    "print(varadd)"
   ]
  },
  {
   "cell_type": "code",
   "execution_count": 8,
   "id": "9219d923-0350-4d43-8fe6-9c6b45ee025b",
   "metadata": {},
   "outputs": [
    {
     "name": "stdout",
     "output_type": "stream",
     "text": [
      "[ 3  6  9 12]\n"
     ]
    }
   ],
   "source": [
    "var  = np.array([1,2,3,4])\n",
    "varadd= var * 3\n",
    "print(varadd)"
   ]
  },
  {
   "cell_type": "code",
   "execution_count": 9,
   "id": "23ef67e5-120e-4045-b5b0-2305331f27c0",
   "metadata": {},
   "outputs": [
    {
     "name": "stdout",
     "output_type": "stream",
     "text": [
      "[0.33333333 0.66666667 1.         1.33333333]\n"
     ]
    }
   ],
   "source": [
    "var  = np.array([1,2,3,4])\n",
    "varadd= var / 3\n",
    "print(varadd)"
   ]
  },
  {
   "cell_type": "code",
   "execution_count": 10,
   "id": "2f841596-5fe4-4dd7-8803-608d976a872b",
   "metadata": {},
   "outputs": [
    {
     "name": "stdout",
     "output_type": "stream",
     "text": [
      "[1 0 0 0]\n"
     ]
    }
   ],
   "source": [
    "var  = np.array([1,2,3,4])\n",
    "varadd= np.reciprocal(var)\n",
    "print(varadd)"
   ]
  },
  {
   "cell_type": "code",
   "execution_count": 11,
   "id": "2d3653b3-586e-4e26-b4b5-0abcf22185ac",
   "metadata": {},
   "outputs": [
    {
     "name": "stdout",
     "output_type": "stream",
     "text": [
      "[1 2 0 1]\n"
     ]
    }
   ],
   "source": [
    "var  = np.array([1,2,3,4])\n",
    "varadd= var % 3\n",
    "print(varadd)"
   ]
  },
  {
   "cell_type": "markdown",
   "id": "a77ef07b-2a72-4089-9b6d-e7e8114878e0",
   "metadata": {},
   "source": [
    "# 2D Array"
   ]
  },
  {
   "cell_type": "code",
   "execution_count": 22,
   "id": "786b0f7e-dfdf-4b9e-b265-b39eed60e8e7",
   "metadata": {},
   "outputs": [
    {
     "name": "stdout",
     "output_type": "stream",
     "text": [
      "[[1 2 3 4]\n",
      " [1 2 3 4]]\n",
      "\n",
      "[[1 2 3 4]\n",
      " [1 2 3 4]]\n",
      "\n",
      "[[2 4 6 8]\n",
      " [2 4 6 8]]\n"
     ]
    }
   ],
   "source": [
    "var21  = np.array([[1,2,3,4],[1,2,3,4]])\n",
    "var22  = np.array([[1,2,3,4],[1,2,3,4]])\n",
    "print(var21)\n",
    "print()\n",
    "print(var22)\n",
    "print()\n",
    "varadd2= var21 +  var22\n",
    "print(varadd2)"
   ]
  },
  {
   "cell_type": "markdown",
   "id": "52d19fec-80b9-41c7-b6cc-359e6412c7b6",
   "metadata": {},
   "source": [
    "# Arthimatic Functions  Advanced"
   ]
  },
  {
   "cell_type": "code",
   "execution_count": 25,
   "id": "3591811a-8ba8-42eb-b2e3-203a76d383e1",
   "metadata": {},
   "outputs": [
    {
     "name": "stdout",
     "output_type": "stream",
     "text": [
      "Minimum :  1\n"
     ]
    }
   ],
   "source": [
    "arr  = np.array([1,2,3,4,5,6])\n",
    "print(\"Minimum : \" , np.min(arr))"
   ]
  },
  {
   "cell_type": "code",
   "execution_count": 27,
   "id": "650e0c08-5e64-44d2-a369-0b5634f3edea",
   "metadata": {},
   "outputs": [
    {
     "name": "stdout",
     "output_type": "stream",
     "text": [
      "Maximum :  6\n"
     ]
    }
   ],
   "source": [
    "arr  = np.array([1,2,3,4,5,6])\n",
    "print(\"Maximum : \",np.max(arr))"
   ]
  },
  {
   "cell_type": "code",
   "execution_count": 29,
   "id": "186b11b2-d8cc-48c8-97fb-df92ad0190ad",
   "metadata": {},
   "outputs": [
    {
     "name": "stdout",
     "output_type": "stream",
     "text": [
      "Position :  3\n"
     ]
    }
   ],
   "source": [
    "arr  = np.array([4,2,1,0,5,6])\n",
    "print(\"Position Min: \",np.argmin(arr))"
   ]
  },
  {
   "cell_type": "code",
   "execution_count": 31,
   "id": "ea6b8ad5-a94d-403d-9b69-cf4c3e437a31",
   "metadata": {},
   "outputs": [
    {
     "name": "stdout",
     "output_type": "stream",
     "text": [
      "Position :  5\n"
     ]
    }
   ],
   "source": [
    "arr  = np.array([1,2,3,4,5,6])\n",
    "print(\"Position Max: \",np.argmax(arr))"
   ]
  },
  {
   "cell_type": "code",
   "execution_count": 37,
   "id": "7ee39418-1aa0-4139-a06e-7de081d3d912",
   "metadata": {},
   "outputs": [
    {
     "name": "stdout",
     "output_type": "stream",
     "text": [
      " [1 5]\n"
     ]
    }
   ],
   "source": [
    "var1  = np.array([[2,1,3],[9,5,6]])\n",
    "print(\"\",np.min(var1,axis=1))"
   ]
  },
  {
   "cell_type": "code",
   "execution_count": 39,
   "id": "860a0fb8-6582-40d0-bbbd-f11269268086",
   "metadata": {},
   "outputs": [
    {
     "name": "stdout",
     "output_type": "stream",
     "text": [
      "Square Root [1.         1.41421356 1.73205081 2.         2.23606798 2.44948974]\n"
     ]
    }
   ],
   "source": [
    "arr  = np.array([1,2,3,4,5,6])\n",
    "print(\"Square Root\",np.sqrt(arr) )\n"
   ]
  },
  {
   "cell_type": "code",
   "execution_count": 3,
   "id": "015ae101-9620-4cf9-affa-0d47fc361332",
   "metadata": {},
   "outputs": [
    {
     "name": "stdout",
     "output_type": "stream",
     "text": [
      "Sin Value [0.84147098 0.90929743 0.14112001]\n"
     ]
    }
   ],
   "source": [
    "var2  = np.array([1,2,3])\n",
    "print(\"Sin Value\", np.sin(var2))"
   ]
  },
  {
   "cell_type": "code",
   "execution_count": 5,
   "id": "d24108e8-ff4f-4010-abbb-f3db3a7b147a",
   "metadata": {},
   "outputs": [
    {
     "name": "stdout",
     "output_type": "stream",
     "text": [
      "Cos Value [ 0.54030231 -0.41614684 -0.9899925 ]\n"
     ]
    }
   ],
   "source": [
    "var2  = np.array([1,2,3])\n",
    "print(\"Cos Value\", np.cos(var2))"
   ]
  },
  {
   "cell_type": "code",
   "execution_count": 7,
   "id": "ef85a577-ed8b-4a70-83e0-aaaac29068b5",
   "metadata": {},
   "outputs": [
    {
     "name": "stdout",
     "output_type": "stream",
     "text": [
      "Cumsum Value [1 3 6]\n"
     ]
    }
   ],
   "source": [
    "var2  = np.array([1,2,3])\n",
    "print(\"Cumsum Value\", np.cumsum(var2))"
   ]
  },
  {
   "cell_type": "code",
   "execution_count": 1,
   "id": "0ba1d54c-72c6-4b78-b6d2-a4b51b35aada",
   "metadata": {},
   "outputs": [],
   "source": [
    "import numpy as np"
   ]
  },
  {
   "cell_type": "markdown",
   "id": "ea8442b2-ff82-40bb-86b7-77e8daf24228",
   "metadata": {},
   "source": [
    "# Shape\n"
   ]
  },
  {
   "cell_type": "code",
   "execution_count": 4,
   "id": "1106f2f5-e3b3-468e-b0be-2c8e29a7929f",
   "metadata": {},
   "outputs": [
    {
     "name": "stdout",
     "output_type": "stream",
     "text": [
      "[[1 2 3 4]\n",
      " [1 2 3 4]]\n",
      "\n",
      "(2, 4)\n"
     ]
    }
   ],
   "source": [
    "var  = np.array([[1,2,3,4],[1,2,3,4]])\n",
    "print(var)\n",
    "print()\n",
    "print(var.shape)"
   ]
  },
  {
   "cell_type": "code",
   "execution_count": 5,
   "id": "135111c6-821c-4b14-a039-06ac7b506373",
   "metadata": {},
   "outputs": [
    {
     "name": "stdout",
     "output_type": "stream",
     "text": [
      "[[[[1 2 3 4]]]]\n",
      "\n",
      "4\n",
      "\n",
      "(1, 1, 1, 4)\n"
     ]
    }
   ],
   "source": [
    "var1 = np.array([1,2,3 ,4],ndmin=4)\n",
    "print(var1)\n",
    "print()\n",
    "print(var1.ndim)\n",
    "print()\n",
    "print(var1.shape)"
   ]
  },
  {
   "cell_type": "markdown",
   "id": "c70154a1-0e15-4174-9cf9-3b0dfcfbf3df",
   "metadata": {},
   "source": [
    "# Reshape"
   ]
  },
  {
   "cell_type": "code",
   "execution_count": 15,
   "id": "9e881176-d1d8-4884-a5bb-1adec590f2d2",
   "metadata": {},
   "outputs": [
    {
     "name": "stdout",
     "output_type": "stream",
     "text": [
      "1\n",
      "\n",
      "[[1 2]\n",
      " [3 4]\n",
      " [5 6]]\n",
      "2\n"
     ]
    }
   ],
   "source": [
    "var2  = np.array([1,2,3,4,5,6])\n",
    "print(var2.ndim)\n",
    "print()\n",
    "x = var2.reshape(3,2)\n",
    "# x = var2.reshape(3,3)   Error\n",
    "print(x)\n",
    "print(x.ndim)"
   ]
  },
  {
   "cell_type": "code",
   "execution_count": 23,
   "id": "40649a91-fb10-4ce1-9128-a34c24b0fc73",
   "metadata": {},
   "outputs": [
    {
     "name": "stdout",
     "output_type": "stream",
     "text": [
      "1\n",
      "\n",
      "[[[ 1  2]\n",
      "  [ 3  4]\n",
      "  [ 5  6]]\n",
      "\n",
      " [[ 7  8]\n",
      "  [ 9 10]\n",
      "  [11 12]]]\n",
      "3\n"
     ]
    }
   ],
   "source": [
    "var3  = np.array([1,2,3,4,5,6,7,8,9,10,11,12])\n",
    "print(var3.ndim)\n",
    "print()\n",
    "x1 = var3.reshape(2,~3,2)\n",
    "# x = var2.reshape(3,3)   Error\n",
    "print(x1)\n",
    "print(x1.ndim)"
   ]
  },
  {
   "cell_type": "code",
   "execution_count": 33,
   "id": "ca482ee0-f3c6-439d-9dea-b77cb7734d0b",
   "metadata": {},
   "outputs": [
    {
     "name": "stdout",
     "output_type": "stream",
     "text": [
      "1\n",
      "\n",
      "[[[ 1  2]\n",
      "  [ 3  4]\n",
      "  [ 5  6]]\n",
      "\n",
      " [[ 7  8]\n",
      "  [ 9 10]\n",
      "  [11 12]]]\n",
      "3\n",
      "\n",
      "[ 1  2  3  4  5  6  7  8  9 10 11 12]\n"
     ]
    }
   ],
   "source": [
    "var3  = np.array([1,2,3,4,5,6,7,8,9,10,11,12])\n",
    "print(var3.ndim)\n",
    "print()\n",
    "x1 = var3.reshape(2,~3,2)\n",
    "# x = var2.reshape(3,3)   Error\n",
    "print(x1)\n",
    "print(x1.ndim)\n",
    "print()\n",
    "one = x1.reshape(-1)\n",
    "print(one)"
   ]
  },
  {
   "cell_type": "code",
   "execution_count": 1,
   "id": "f0e7e292-ad9b-47d1-9536-a52a6e79e305",
   "metadata": {},
   "outputs": [],
   "source": [
    "import numpy as np"
   ]
  },
  {
   "cell_type": "markdown",
   "id": "3ef5b5ae-fdd2-499e-a416-2abdcf0effed",
   "metadata": {},
   "source": [
    "# BroadCasting In Numpy"
   ]
  },
  {
   "cell_type": "code",
   "execution_count": 17,
   "id": "3645ca91-e377-46b6-abf6-c9fdf21ef84d",
   "metadata": {},
   "outputs": [
    {
     "name": "stdout",
     "output_type": "stream",
     "text": [
      "(4,)\n",
      "[[1]\n",
      " [2]\n",
      " [3]]\n",
      "(3, 1)\n",
      "\n",
      "[[2 3 4 5]\n",
      " [3 4 5 6]\n",
      " [4 5 6 7]]\n"
     ]
    }
   ],
   "source": [
    "var1   =  np.array([1,2,3,4])\n",
    "print(var1.shape)\n",
    "var2   =  np.array([[1],[2],[3]])\n",
    "print(var2)\n",
    "print(var2.shape)\n",
    "print()\n",
    "print(var1+var2)"
   ]
  },
  {
   "cell_type": "code",
   "execution_count": 26,
   "id": "0de98fae-6459-4b76-a756-de7b59405c05",
   "metadata": {},
   "outputs": [
    {
     "name": "stdout",
     "output_type": "stream",
     "text": [
      "(2, 1)\n",
      "(2, 3)\n",
      "\n",
      "[[2 3 4]\n",
      " [3 4 5]]\n"
     ]
    }
   ],
   "source": [
    "x =  np.array([[1],[2]])\n",
    "print(x.shape)\n",
    "y =  np.array([[1,2,3],[1,2,3]])\n",
    "print(y.shape)\n",
    "print()\n",
    "print(x+y)"
   ]
  },
  {
   "cell_type": "markdown",
   "id": "2e1986f8-22f1-4897-8126-a23ebfcc3a48",
   "metadata": {},
   "source": [
    "# Numpy Array Indexing "
   ]
  },
  {
   "cell_type": "code",
   "execution_count": 31,
   "id": "d8179bb6-ab15-478b-8d9b-dc94e9400284",
   "metadata": {},
   "outputs": [
    {
     "name": "stdout",
     "output_type": "stream",
     "text": [
      "8\n",
      "6\n"
     ]
    }
   ],
   "source": [
    "var  = np.array([9,8,7,6])\n",
    "\n",
    "print(var[1])\n",
    "print(var[-1])"
   ]
  },
  {
   "cell_type": "code",
   "execution_count": 41,
   "id": "6e4fbfac-92f1-4515-a565-38da97fea858",
   "metadata": {},
   "outputs": [
    {
     "name": "stdout",
     "output_type": "stream",
     "text": [
      "[4 5 6]\n",
      "2\n",
      "\n",
      "8\n"
     ]
    }
   ],
   "source": [
    "var1  = np.array([[9,8,7],[4,5,6]])\n",
    "print(var1[1])\n",
    "print(var1.ndim)\n",
    "print()\n",
    "print(var1[0,1])"
   ]
  },
  {
   "cell_type": "code",
   "execution_count": 45,
   "id": "e4431d5d-a598-49d6-9080-dd6478f22c68",
   "metadata": {},
   "outputs": [
    {
     "name": "stdout",
     "output_type": "stream",
     "text": [
      "[[[1 2]\n",
      "  [6 7]]]\n",
      "3\n",
      "\n",
      "6\n"
     ]
    }
   ],
   "source": [
    "var2  = np.array([[[1,2],[6,7]]])\n",
    "print(var2)\n",
    "print(var2.ndim)\n",
    "print()\n",
    "print(var2[0,1,0])\n"
   ]
  },
  {
   "cell_type": "markdown",
   "id": "65d344aa-b57a-4223-b59b-a09f8ab292ff",
   "metadata": {},
   "source": [
    "# Slicing Numpy Array "
   ]
  },
  {
   "cell_type": "code",
   "execution_count": 58,
   "id": "0d506922-13ef-41df-9e70-1cffae61b295",
   "metadata": {},
   "outputs": [
    {
     "name": "stdout",
     "output_type": "stream",
     "text": [
      "[1 2 3 4 5 6 7 8 9]\n",
      "\n",
      "[2 3 4 5]\n",
      "[2 3 4 5 6 7 8 9]\n",
      "[1 2 3 4 5]\n",
      "[2 4 6]\n",
      "[1 3 5 7 9]\n"
     ]
    }
   ],
   "source": [
    "var  = np.array([1,2,3,4,5,6,7,8,9])\n",
    "print(var)\n",
    "print()\n",
    "print(var[1:5])   # 2 to 5\n",
    "print(var[1:])    # 2 to End\n",
    "print(var[:5])    # Start to 5\n",
    "print(var[1:7:2])    # Stop One Step\n",
    "print(var[::2])    # Stop One Step"
   ]
  },
  {
   "cell_type": "code",
   "execution_count": 64,
   "id": "6a86f81d-b279-40af-b635-0dbf4af95b70",
   "metadata": {},
   "outputs": [
    {
     "name": "stdout",
     "output_type": "stream",
     "text": [
      "[6]\n"
     ]
    }
   ],
   "source": [
    "#2D\n",
    "var1  = np.array([[1,2,3],[4,5,6]])\n",
    "print(var1[1,2:])"
   ]
  },
  {
   "cell_type": "markdown",
   "id": "dead5f34-d470-460f-8dd7-224d098284f8",
   "metadata": {},
   "source": [
    "# Iteration Loops Numpy"
   ]
  },
  {
   "cell_type": "code",
   "execution_count": 71,
   "id": "87b00f52-f490-4d13-af61-e4606e81ae20",
   "metadata": {},
   "outputs": [
    {
     "name": "stdout",
     "output_type": "stream",
     "text": [
      "[9 8 7 6 4 3]\n",
      "\n",
      "9\n",
      "8\n",
      "7\n",
      "6\n",
      "4\n",
      "3\n"
     ]
    }
   ],
   "source": [
    "var  = np.array([9,8,7,6,4,3])\n",
    "print(var)\n",
    "print()\n",
    "for i in var:\n",
    "    print(i)"
   ]
  },
  {
   "cell_type": "code",
   "execution_count": 77,
   "id": "82dcec33-8dd8-4e5e-8b66-9e2af6735688",
   "metadata": {},
   "outputs": [
    {
     "name": "stdout",
     "output_type": "stream",
     "text": [
      "[[1 2 3 4]\n",
      " [1 2 3 5]]\n",
      "\n",
      "[1 2 3 4]\n",
      "[1 2 3 5]\n",
      "\n",
      "1\n",
      "2\n",
      "3\n",
      "4\n",
      "1\n",
      "2\n",
      "3\n",
      "5\n"
     ]
    }
   ],
   "source": [
    "var2d  =  np.array([[1,2,3,4],[1,2,3,5]])\n",
    "print(var2d)\n",
    "print()\n",
    "for  j  in var2d:\n",
    "    print(j)\n",
    "print()\n",
    "for k in var2d:\n",
    "    for l in k:\n",
    "        print(l)"
   ]
  },
  {
   "cell_type": "code",
   "execution_count": 83,
   "id": "08967206-4d7d-48eb-9527-0385480dae39",
   "metadata": {},
   "outputs": [
    {
     "name": "stdout",
     "output_type": "stream",
     "text": [
      "[[[1 2 3 4]\n",
      "  [1 2 3 4]]]\n",
      "3\n",
      "\n",
      "1\n",
      "2\n",
      "3\n",
      "4\n",
      "1\n",
      "2\n",
      "3\n",
      "4\n"
     ]
    }
   ],
   "source": [
    "var3d  = np.array([[[1,2,3,4],[1,2,3,4]]])\n",
    "print(var3d)\n",
    "print(var3d.ndim)\n",
    "print()\n",
    "for i in var3d:\n",
    "    for j in i:\n",
    "        for k in j:\n",
    "            print(k)"
   ]
  },
  {
   "cell_type": "markdown",
   "id": "cc26131f-f79e-430e-bf02-4a98b569f9c8",
   "metadata": {},
   "source": [
    "### No Using For Loop For Itereations"
   ]
  },
  {
   "cell_type": "code",
   "execution_count": 90,
   "id": "c49a6d47-03fd-4144-b9b3-25eaa98f5b10",
   "metadata": {},
   "outputs": [
    {
     "name": "stdout",
     "output_type": "stream",
     "text": [
      "[[[1 2 3 4]\n",
      "  [1 2 3 4]]]\n",
      "3\n",
      "\n",
      "1\n",
      "2\n",
      "3\n",
      "4\n",
      "1\n",
      "2\n",
      "3\n",
      "4\n"
     ]
    }
   ],
   "source": [
    "var3d  = np.array([[[1,2,3,4],[1,2,3,4]]])\n",
    "print(var3d)\n",
    "print(var3d.ndim)\n",
    "print()\n",
    "# for i in np.nditer(var3d,flags=['buffered'],op_dtypes=[\"S\"]):\n",
    "for i in np.nditer(var3d):\n",
    "    print(i)"
   ]
  },
  {
   "cell_type": "code",
   "execution_count": 94,
   "id": "c8453948-4d84-422d-9f58-1802213156a2",
   "metadata": {},
   "outputs": [
    {
     "name": "stdout",
     "output_type": "stream",
     "text": [
      "[[[1 2 3 4]\n",
      "  [1 2 3 4]]]\n",
      "3\n",
      "\n",
      "(0, 0, 0) 1\n",
      "(0, 0, 1) 2\n",
      "(0, 0, 2) 3\n",
      "(0, 0, 3) 4\n",
      "(0, 1, 0) 1\n",
      "(0, 1, 1) 2\n",
      "(0, 1, 2) 3\n",
      "(0, 1, 3) 4\n"
     ]
    }
   ],
   "source": [
    "var3d  = np.array([[[1,2,3,4],[1,2,3,4]]])\n",
    "print(var3d)\n",
    "print(var3d.ndim)\n",
    "print()\n",
    "\n",
    "for i,d in np.ndenumerate(var3d):\n",
    "    print(i,d)"
   ]
  },
  {
   "cell_type": "markdown",
   "id": "14687a20-89e8-4144-9c3f-9ab42c33e019",
   "metadata": {},
   "source": [
    "# Copy VS View"
   ]
  },
  {
   "cell_type": "code",
   "execution_count": 105,
   "id": "69354fd1-b707-4c12-8c3b-24f70ba7c77a",
   "metadata": {},
   "outputs": [
    {
     "name": "stdout",
     "output_type": "stream",
     "text": [
      "Var [1 9 3 4]\n",
      "Copy: [1 2 3 4]\n"
     ]
    }
   ],
   "source": [
    "var  = np.array([1,2,3,4])\n",
    "co = var.copy()\n",
    "var[1] = 9                              # Not Changes Copy Data\n",
    "print(\"Var\",var)\n",
    "print(\"Copy:\",co)"
   ]
  },
  {
   "cell_type": "code",
   "execution_count": 107,
   "id": "d8f1b8e4-0a2b-47f9-9e3c-1ab27c421028",
   "metadata": {},
   "outputs": [
    {
     "name": "stdout",
     "output_type": "stream",
     "text": [
      "X:  [ 9  8 10  6  5]\n",
      "View:  [ 9  8 10  6  5]\n"
     ]
    }
   ],
   "source": [
    "x = np.array([9,8,7,6,5])\n",
    "vi =x.view()\n",
    "x[2]= 10\n",
    "print(\"X: \",x)                      # Changes View Data\n",
    "print(\"View: \",vi)"
   ]
  },
  {
   "cell_type": "code",
   "execution_count": 1,
   "id": "19988b3f-f9fb-4cf2-a644-67f1628e0a3c",
   "metadata": {},
   "outputs": [],
   "source": [
    "import numpy as np"
   ]
  },
  {
   "cell_type": "markdown",
   "id": "24ddb884-0070-4924-b323-1a2b64f599e1",
   "metadata": {},
   "source": [
    "# Join Array "
   ]
  },
  {
   "cell_type": "code",
   "execution_count": 28,
   "id": "12895a1c-6901-45ec-927e-149736900577",
   "metadata": {},
   "outputs": [
    {
     "name": "stdout",
     "output_type": "stream",
     "text": [
      "[1 2 3 4 9 8 7 6]\n"
     ]
    }
   ],
   "source": [
    "var  =  np.array([1,2,3,4])\n",
    "var1  =  np.array([9,8,7,6])\n",
    "ar  = np.concatenate((var,var1))\n",
    "print(ar)"
   ]
  },
  {
   "cell_type": "code",
   "execution_count": 34,
   "id": "f8ce3b51-23a2-48fb-b3a2-cb349ad3ca2c",
   "metadata": {},
   "outputs": [
    {
     "name": "stdout",
     "output_type": "stream",
     "text": [
      "[[1 2]\n",
      " [3 4]]\n",
      "\n",
      "[[9 8]\n",
      " [7 6]]\n",
      "\n",
      "[[1 2 9 8]\n",
      " [3 4 7 6]]\n"
     ]
    }
   ],
   "source": [
    "vr  =  np.array([[1,2],[3,4]])\n",
    "vr1  =  np.array([[9,8],[7,6]])\n",
    "new_ar  = np.concatenate((vr,vr1),axis=1)\n",
    "print(vr)\n",
    "print()\n",
    "print(vr1)\n",
    "print()\n",
    "print(new_ar)"
   ]
  },
  {
   "cell_type": "code",
   "execution_count": 56,
   "id": "65a992fd-32f2-449e-a6a2-b3993fa79dc1",
   "metadata": {},
   "outputs": [
    {
     "name": "stdout",
     "output_type": "stream",
     "text": [
      "[[1 9]\n",
      " [2 8]\n",
      " [3 7]\n",
      " [4 6]]\n",
      "\n",
      "[1 2 3 4 9 8 7 6]\n",
      "\n",
      "[[1 2 3 4]\n",
      " [9 8 7 6]]\n",
      "\n",
      "[[[1 9]\n",
      "  [2 8]\n",
      "  [3 7]\n",
      "  [4 6]]]\n"
     ]
    }
   ],
   "source": [
    "var_1  =  np.array([1,2,3,4])\n",
    "var_2  =  np.array([9,8,7,6])\n",
    "a_new  = np.stack((var_1,var_2),axis=1)\n",
    "a_new1  = np.hstack((var_1,var_2))  # Row \n",
    "a_new2  = np.vstack((var_1,var_2))  # Coloums\n",
    "a_new3  = np.dstack((var_1,var_2))  # Height\n",
    "print(a_new)\n",
    "print()\n",
    "print(a_new1)\n",
    "print()\n",
    "print(a_new2)\n",
    "print()\n",
    "print(a_new3)"
   ]
  },
  {
   "cell_type": "markdown",
   "id": "c5a8fb69-0a08-433f-8c25-775620287055",
   "metadata": {},
   "source": [
    "# Split Array"
   ]
  },
  {
   "cell_type": "code",
   "execution_count": 65,
   "id": "a47fd006-f076-48f2-a3a1-bd6af0b80ef8",
   "metadata": {},
   "outputs": [
    {
     "name": "stdout",
     "output_type": "stream",
     "text": [
      "[1 2 3 4 5 6]\n",
      "\n",
      "[array([1, 2]), array([3, 4]), array([5, 6])]\n",
      "[1 2]\n"
     ]
    }
   ],
   "source": [
    "var  =  np.array([1,2,3,4,5,6])\n",
    "print(var)\n",
    "ar  = np.array_split(var,3)\n",
    "print()\n",
    "print(ar)\n",
    "print(ar[0])"
   ]
  },
  {
   "cell_type": "code",
   "execution_count": 77,
   "id": "6e6e6798-c2bc-48f1-a443-0ae571662b22",
   "metadata": {},
   "outputs": [
    {
     "name": "stdout",
     "output_type": "stream",
     "text": [
      "[1 2 3 4 5 6]\n",
      "\n",
      "[array([[1],\n",
      "       [3],\n",
      "       [5]]), array([[2],\n",
      "       [4],\n",
      "       [6]]), array([], shape=(3, 0), dtype=int32)]\n",
      "\n",
      "[[1]\n",
      " [3]\n",
      " [5]]\n"
     ]
    }
   ],
   "source": [
    "var2d  =  np.array([[1,2],[3,4],[5,6]])\n",
    "print(var)\n",
    "# ar1  = np.array_split(var2d,3)\n",
    "ar1  = np.array_split(var2d,3,axis=1)\n",
    "print()\n",
    "print(ar1)\n",
    "print()\n",
    "print(ar1[0])"
   ]
  },
  {
   "cell_type": "markdown",
   "id": "10055361-5534-4e59-b24a-605967c56a5d",
   "metadata": {},
   "source": [
    "# Searching "
   ]
  },
  {
   "cell_type": "code",
   "execution_count": 90,
   "id": "5b7ce096-3145-4874-b67f-d8ba0f3d51bb",
   "metadata": {},
   "outputs": [
    {
     "name": "stdout",
     "output_type": "stream",
     "text": [
      "(array([0, 1, 3, 4, 6, 8], dtype=int64),)\n"
     ]
    }
   ],
   "source": [
    "var  = np.array([4,2,3,4,2,5,2,5,6,7])\n",
    "x =  np.where((var%2)==0 )\n",
    "print(x)"
   ]
  },
  {
   "cell_type": "code",
   "execution_count": 104,
   "id": "5ad784c4-9b5e-4974-aec6-f4fcf5b6cceb",
   "metadata": {},
   "outputs": [
    {
     "name": "stdout",
     "output_type": "stream",
     "text": [
      "[4 4 4]\n"
     ]
    }
   ],
   "source": [
    "var1  = np.array([1,2,3,4,9,10])\n",
    "x1 =  np.searchsorted(var1,[5,6,7],side=\"right\")\n",
    "print(x1)"
   ]
  },
  {
   "cell_type": "markdown",
   "id": "813a5a31-ab29-4d33-84e1-f539b94308fc",
   "metadata": {},
   "source": [
    "# Sort Array\n"
   ]
  },
  {
   "cell_type": "code",
   "execution_count": 107,
   "id": "d746a567-a448-4a78-8319-442003f3e965",
   "metadata": {},
   "outputs": [
    {
     "name": "stdout",
     "output_type": "stream",
     "text": [
      "[ 2  3  4  4  5  5  7 12 22 62]\n"
     ]
    }
   ],
   "source": [
    "var_sort  = np.array([4,2,3,4,12,5,22,5,62,7])\n",
    "print(np.sort(var_sort))"
   ]
  },
  {
   "cell_type": "code",
   "execution_count": 109,
   "id": "182cc10a-d952-4c27-a992-79c23d7d5eee",
   "metadata": {},
   "outputs": [
    {
     "name": "stdout",
     "output_type": "stream",
     "text": [
      "['a' 'b' 'c' 'd' 'f' 'h' 'r' 'w']\n"
     ]
    }
   ],
   "source": [
    "var_sort  = np.array([\"d\",\"r\",\"w\",\"c\",\"h\",\"b\",\"a\",\"f\"])\n",
    "print(np.sort(var_sort))"
   ]
  },
  {
   "cell_type": "code",
   "execution_count": 111,
   "id": "c3493583-f472-4739-b92d-94b5b561ad67",
   "metadata": {},
   "outputs": [
    {
     "name": "stdout",
     "output_type": "stream",
     "text": [
      "[[ 2  3  4]\n",
      " [ 4  5 12]\n",
      " [ 5 22 62]]\n"
     ]
    }
   ],
   "source": [
    "var_sort  = np.array([[4,2,3],[4,12,5],[22,5,62]])\n",
    "print(np.sort(var_sort))"
   ]
  },
  {
   "cell_type": "markdown",
   "id": "695fdc3e-dcc7-4559-ba4c-0b65b16ab183",
   "metadata": {},
   "source": [
    "# Filter Array "
   ]
  },
  {
   "cell_type": "code",
   "execution_count": 116,
   "id": "fce44e7d-9a97-4be2-862e-98b6978e35b3",
   "metadata": {},
   "outputs": [
    {
     "name": "stdout",
     "output_type": "stream",
     "text": [
      "['d' 'c']\n"
     ]
    }
   ],
   "source": [
    "var_filter  = np.array([\"d\",\"r\",\"w\",\"c\"])\n",
    "f = [True,False,False,True]\n",
    "new_a = var_filter[f]\n",
    "print(new_a)"
   ]
  },
  {
   "cell_type": "markdown",
   "id": "61404be7-a2d8-4c71-84cb-0171950baa3c",
   "metadata": {},
   "source": [
    "# Arthematic Functions Numpy"
   ]
  },
  {
   "cell_type": "markdown",
   "id": "ce77df0e-8549-4da5-9400-53f95ac9e7e0",
   "metadata": {},
   "source": [
    "## Shuffle Function"
   ]
  },
  {
   "cell_type": "code",
   "execution_count": 124,
   "id": "5fe2f372-bc89-450a-bead-f52431b7fc03",
   "metadata": {},
   "outputs": [
    {
     "name": "stdout",
     "output_type": "stream",
     "text": [
      "[5 3 4 2 1]\n"
     ]
    }
   ],
   "source": [
    "var  = np.array([1,2,3,4,5])\n",
    "np.random.shuffle(var)\n",
    "print(var)"
   ]
  },
  {
   "cell_type": "markdown",
   "id": "d071a4d1-10ce-4513-8b7e-5eb9d25d8372",
   "metadata": {},
   "source": [
    "## Unique Function"
   ]
  },
  {
   "cell_type": "code",
   "execution_count": 133,
   "id": "e6039904-072c-4d3e-9f46-9d9249af3543",
   "metadata": {},
   "outputs": [
    {
     "name": "stdout",
     "output_type": "stream",
     "text": [
      "(array([1, 2, 3, 4, 5, 6]), array([0, 1, 2, 4, 5, 6], dtype=int64), array([1, 2, 1, 2, 1, 1], dtype=int64))\n"
     ]
    }
   ],
   "source": [
    "var1  = np.array([1,2,3,2,4,5,6,4])\n",
    "x = np.unique(var1,return_index= True,return_counts=True)\n",
    "print(x)"
   ]
  },
  {
   "cell_type": "markdown",
   "id": "8c67d442-3162-4b09-b8d4-df222ab30ad2",
   "metadata": {},
   "source": [
    "## Resize    changing the size"
   ]
  },
  {
   "cell_type": "code",
   "execution_count": 142,
   "id": "0dfb63a6-a77f-4a10-b824-4cf8f6c10c20",
   "metadata": {},
   "outputs": [
    {
     "name": "stdout",
     "output_type": "stream",
     "text": [
      "[[1 2]\n",
      " [3 4]\n",
      " [5 6]]\n"
     ]
    }
   ],
   "source": [
    "var2  = np.array([1,2,3,4,5,6])\n",
    "y = np.resize(var2,(3,2))\n",
    "print(y)"
   ]
  },
  {
   "cell_type": "markdown",
   "id": "e2ec6ba3-a8d1-4f3a-bac5-825d186fd987",
   "metadata": {},
   "source": [
    "## Flatten && Ravel      one dimension convert"
   ]
  },
  {
   "cell_type": "code",
   "execution_count": 163,
   "id": "f0973ffe-f516-4c3e-9c79-d73c81434a72",
   "metadata": {},
   "outputs": [
    {
     "name": "stdout",
     "output_type": "stream",
     "text": [
      "[[1 2]\n",
      " [3 4]\n",
      " [5 6]]\n",
      "\n",
      "Flatten [1 3 5 2 4 6]\n",
      "Ravel [1 2 3 4 5 6]\n"
     ]
    }
   ],
   "source": [
    "var2  = np.array([1,2,3,4,5,6])\n",
    "y = np.resize(var2,(3,2))\n",
    "print(y)\n",
    "print()\n",
    "print(\"Flatten\",y.flatten(order='F'))\n",
    "print(\"Ravel\",y.ravel(order='K'))"
   ]
  },
  {
   "cell_type": "markdown",
   "id": "d57d2f47-7a68-4106-9bc3-9847cda5dcaa",
   "metadata": {},
   "source": [
    "# Insert"
   ]
  },
  {
   "cell_type": "code",
   "execution_count": 2,
   "id": "720b63af-7e9a-48c5-8db1-16be48ad3be5",
   "metadata": {},
   "outputs": [],
   "source": [
    "import numpy as np"
   ]
  },
  {
   "cell_type": "code",
   "execution_count": 18,
   "id": "5b239f5b-a741-4589-8e22-cbb42b5d6951",
   "metadata": {},
   "outputs": [
    {
     "name": "stdout",
     "output_type": "stream",
     "text": [
      "[1 2 3 4]\n",
      "[23  1  2  3  4]\n",
      "[ 1 40  2  3 40  4  5  6]\n"
     ]
    }
   ],
   "source": [
    "var  = np.array([1,2,3,4])\n",
    "print(var)\n",
    "# x=np.insert(var,2,40)\n",
    "# y=np.insert(var,(1,3),40)\n",
    "x1  = np.append(23,var)\n",
    "# print(x)\n",
    "print(x1)\n",
    "print(y)"
   ]
  },
  {
   "cell_type": "code",
   "execution_count": 16,
   "id": "47101d50-ab1d-475c-977c-5af43730b138",
   "metadata": {},
   "outputs": [
    {
     "name": "stdout",
     "output_type": "stream",
     "text": [
      "[[ 1  2  3]\n",
      " [ 4  5  6]\n",
      " [40 40 40]]\n",
      "[ 1 40  2  3 40  4  5  6]\n"
     ]
    }
   ],
   "source": [
    "var2d =  np.array([[1,2,3],[4,5,6]])\n",
    "x=np.insert(var2d,2,40,axis=0)\n",
    "y=np.insert(var2d,(1,3),40)\n",
    "print(x)\n",
    "print(y)"
   ]
  },
  {
   "cell_type": "markdown",
   "id": "0c7a6c86-45fa-4346-9cdf-793d7cfa4304",
   "metadata": {},
   "source": [
    "# Delete "
   ]
  },
  {
   "cell_type": "code",
   "execution_count": 21,
   "id": "c7dff533-17a2-48e7-b6e1-96b9880daff2",
   "metadata": {},
   "outputs": [
    {
     "data": {
      "text/plain": [
       "array([1, 2, 4])"
      ]
     },
     "execution_count": 21,
     "metadata": {},
     "output_type": "execute_result"
    }
   ],
   "source": [
    "var  = np.array([1,2,3,4])\n",
    "np.delete(var,2)"
   ]
  },
  {
   "cell_type": "markdown",
   "id": "e8021ff6-6fdf-40b3-b3b8-a630db7f3d9b",
   "metadata": {},
   "source": [
    "# Matrix"
   ]
  },
  {
   "cell_type": "code",
   "execution_count": 36,
   "id": "4d695269-c0ff-4cd7-9a63-14a26dd4d9e8",
   "metadata": {},
   "outputs": [
    {
     "name": "stdout",
     "output_type": "stream",
     "text": [
      "[[1 2]\n",
      " [1 2]]\n",
      "<class 'numpy.matrix'>\n",
      "\n",
      "[[3 6]\n",
      " [3 6]]\n",
      "\n",
      "[[3 6]\n",
      " [3 6]]\n"
     ]
    }
   ],
   "source": [
    "var  = np.matrix([[1,2],[1,2]])\n",
    "var0  = np.matrix([[1,2],[1,2]])\n",
    "print(var)\n",
    "print(type(var))\n",
    "print()\n",
    "print(var*var0)\n",
    "print()\n",
    "print(var.dot(var0))"
   ]
  },
  {
   "cell_type": "code",
   "execution_count": 38,
   "id": "3af4bbb1-6c0a-44e0-b1b4-2b9f89b16d53",
   "metadata": {},
   "outputs": [
    {
     "name": "stdout",
     "output_type": "stream",
     "text": [
      "[[1 2 3]\n",
      " [1 2 3]]\n",
      "[[1 4 9]\n",
      " [1 4 9]]\n",
      "<class 'numpy.ndarray'>\n"
     ]
    }
   ],
   "source": [
    "var1  = np.array([[1,2,3],[1,2,3]])\n",
    "print(var1)\n",
    "print(var1*var1)\n",
    "print(type(var1))"
   ]
  },
  {
   "cell_type": "code",
   "execution_count": null,
   "id": "2dc1b45e-7c49-441f-be99-efdae7c547df",
   "metadata": {},
   "outputs": [],
   "source": []
  }
 ],
 "metadata": {
  "kernelspec": {
   "display_name": "Python 3 (ipykernel)",
   "language": "python",
   "name": "python3"
  },
  "language_info": {
   "codemirror_mode": {
    "name": "ipython",
    "version": 3
   },
   "file_extension": ".py",
   "mimetype": "text/x-python",
   "name": "python",
   "nbconvert_exporter": "python",
   "pygments_lexer": "ipython3",
   "version": "3.12.7"
  }
 },
 "nbformat": 4,
 "nbformat_minor": 5
}
