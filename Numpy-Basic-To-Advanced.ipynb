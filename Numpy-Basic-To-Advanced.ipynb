{
 "cells": [
  {
   "cell_type": "markdown",
   "id": "d4160d9d-1c85-4714-94fc-68c01b0bc361",
   "metadata": {},
   "source": [
    "# Numpy Array\n"
   ]
  },
  {
   "cell_type": "code",
   "execution_count": 286,
   "id": "7a3b25fc-f96f-4ca9-af90-19900157bba3",
   "metadata": {},
   "outputs": [],
   "source": [
    "import numpy as np"
   ]
  },
  {
   "cell_type": "markdown",
   "id": "700ae1d4-ba02-43db-b749-84273882d979",
   "metadata": {},
   "source": [
    "# Vector : \n",
    "  - Vector is one Dimension is a single array\n",
    "# Matrix : \n",
    "  - Matrix is a Multi Dimension Array "
   ]
  },
  {
   "cell_type": "code",
   "execution_count": null,
   "id": "091c23d1-d31a-48b4-885c-28fd83a60faa",
   "metadata": {},
   "outputs": [],
   "source": []
  },
  {
   "cell_type": "markdown",
   "id": "ecafe579-080d-41d5-a95e-0210f9cd0fb3",
   "metadata": {},
   "source": [
    "## Basic Array Creation"
   ]
  },
  {
   "cell_type": "code",
   "execution_count": 290,
   "id": "dd3d21d6-bfbe-4177-b100-589af43b9fd2",
   "metadata": {},
   "outputs": [
    {
     "data": {
      "text/plain": [
       "array([1, 2, 3, 4, 5])"
      ]
     },
     "execution_count": 290,
     "metadata": {},
     "output_type": "execute_result"
    }
   ],
   "source": [
    "arr = np.array([1,2,3,4,5])\n",
    "arr"
   ]
  },
  {
   "cell_type": "code",
   "execution_count": 291,
   "id": "8b80e033-4912-4720-bdbf-39f784e41cfd",
   "metadata": {},
   "outputs": [
    {
     "data": {
      "text/plain": [
       "[1, 2, 3.5, 'Ahsan', 5]"
      ]
     },
     "execution_count": 291,
     "metadata": {},
     "output_type": "execute_result"
    }
   ],
   "source": [
    "a = [1,2,3.5,'Ahsan',5]\n",
    "a"
   ]
  },
  {
   "cell_type": "code",
   "execution_count": 292,
   "id": "08e47512-3e9d-4adc-9bc6-0acad5b0c7d9",
   "metadata": {},
   "outputs": [
    {
     "data": {
      "text/plain": [
       "array(['1', '2', '3.5', 'Ahsan', '5'], dtype='<U32')"
      ]
     },
     "execution_count": 292,
     "metadata": {},
     "output_type": "execute_result"
    }
   ],
   "source": [
    "np.array(a)"
   ]
  },
  {
   "cell_type": "code",
   "execution_count": 293,
   "id": "33242654-be25-40df-95f8-54f0918f4774",
   "metadata": {},
   "outputs": [
    {
     "data": {
      "text/plain": [
       "[1, 2, 3.5, 5]"
      ]
     },
     "execution_count": 293,
     "metadata": {},
     "output_type": "execute_result"
    }
   ],
   "source": [
    "b = [1,2,3.5,5]\n",
    "b"
   ]
  },
  {
   "cell_type": "code",
   "execution_count": 294,
   "id": "49044191-66aa-4cc1-97f4-95f9cec6da4a",
   "metadata": {},
   "outputs": [
    {
     "data": {
      "text/plain": [
       "array([1. , 2. , 3.5, 5. ])"
      ]
     },
     "execution_count": 294,
     "metadata": {},
     "output_type": "execute_result"
    }
   ],
   "source": [
    "np.array(b)"
   ]
  },
  {
   "cell_type": "code",
   "execution_count": 295,
   "id": "9d9fcf49-299e-4f6c-9b3c-67c64ae9dd5c",
   "metadata": {},
   "outputs": [
    {
     "data": {
      "text/plain": [
       "[[1, 2, 3], [4, 5, 6], [7, 8, 9]]"
      ]
     },
     "execution_count": 295,
     "metadata": {},
     "output_type": "execute_result"
    }
   ],
   "source": [
    "l = [[1,2,3],[4,5,6],[7,8,9]]\n",
    "l"
   ]
  },
  {
   "cell_type": "code",
   "execution_count": 296,
   "id": "6e420b4d-f1e7-45f8-944e-80eb10f9d1df",
   "metadata": {},
   "outputs": [
    {
     "data": {
      "text/plain": [
       "array([[1, 2, 3],\n",
       "       [4, 5, 6],\n",
       "       [7, 8, 9]])"
      ]
     },
     "execution_count": 296,
     "metadata": {},
     "output_type": "execute_result"
    }
   ],
   "source": [
    "np.array(l)"
   ]
  },
  {
   "cell_type": "markdown",
   "id": "d44c5c1d-c0c7-4bcf-a865-da1d6f77a738",
   "metadata": {},
   "source": [
    "## Array Generation Function"
   ]
  },
  {
   "cell_type": "code",
   "execution_count": 298,
   "id": "15426bb2-88e9-419a-a1e2-3247fa499f93",
   "metadata": {},
   "outputs": [
    {
     "data": {
      "text/plain": [
       "array([1, 3, 5, 7, 9])"
      ]
     },
     "execution_count": 298,
     "metadata": {},
     "output_type": "execute_result"
    }
   ],
   "source": [
    "arr = np.arange(1,11,2)\n",
    "arr"
   ]
  },
  {
   "cell_type": "code",
   "execution_count": 299,
   "id": "4b7e4c00-9e30-425b-a917-d0948ebc6501",
   "metadata": {},
   "outputs": [
    {
     "data": {
      "text/plain": [
       "array([[0., 0., 0., 0., 0., 0., 0., 0.],\n",
       "       [0., 0., 0., 0., 0., 0., 0., 0.],\n",
       "       [0., 0., 0., 0., 0., 0., 0., 0.],\n",
       "       [0., 0., 0., 0., 0., 0., 0., 0.]])"
      ]
     },
     "execution_count": 299,
     "metadata": {},
     "output_type": "execute_result"
    }
   ],
   "source": [
    "arr = np.zeros((4,8))\n",
    "arr"
   ]
  },
  {
   "cell_type": "code",
   "execution_count": 300,
   "id": "f8198812-1efd-4bdc-ab1d-09e05e5bd60f",
   "metadata": {},
   "outputs": [
    {
     "data": {
      "text/plain": [
       "array([[1., 1., 1., 1.],\n",
       "       [1., 1., 1., 1.],\n",
       "       [1., 1., 1., 1.]])"
      ]
     },
     "execution_count": 300,
     "metadata": {},
     "output_type": "execute_result"
    }
   ],
   "source": [
    "arr  = np.ones((3,4))\n",
    "arr"
   ]
  },
  {
   "cell_type": "code",
   "execution_count": 301,
   "id": "67664d8d-c65d-49e4-9184-b99215c32d1a",
   "metadata": {},
   "outputs": [
    {
     "data": {
      "text/plain": [
       "array([0.        , 0.01010101, 0.02020202, 0.03030303, 0.04040404,\n",
       "       0.05050505, 0.06060606, 0.07070707, 0.08080808, 0.09090909,\n",
       "       0.1010101 , 0.11111111, 0.12121212, 0.13131313, 0.14141414,\n",
       "       0.15151515, 0.16161616, 0.17171717, 0.18181818, 0.19191919,\n",
       "       0.2020202 , 0.21212121, 0.22222222, 0.23232323, 0.24242424,\n",
       "       0.25252525, 0.26262626, 0.27272727, 0.28282828, 0.29292929,\n",
       "       0.3030303 , 0.31313131, 0.32323232, 0.33333333, 0.34343434,\n",
       "       0.35353535, 0.36363636, 0.37373737, 0.38383838, 0.39393939,\n",
       "       0.4040404 , 0.41414141, 0.42424242, 0.43434343, 0.44444444,\n",
       "       0.45454545, 0.46464646, 0.47474747, 0.48484848, 0.49494949,\n",
       "       0.50505051, 0.51515152, 0.52525253, 0.53535354, 0.54545455,\n",
       "       0.55555556, 0.56565657, 0.57575758, 0.58585859, 0.5959596 ,\n",
       "       0.60606061, 0.61616162, 0.62626263, 0.63636364, 0.64646465,\n",
       "       0.65656566, 0.66666667, 0.67676768, 0.68686869, 0.6969697 ,\n",
       "       0.70707071, 0.71717172, 0.72727273, 0.73737374, 0.74747475,\n",
       "       0.75757576, 0.76767677, 0.77777778, 0.78787879, 0.7979798 ,\n",
       "       0.80808081, 0.81818182, 0.82828283, 0.83838384, 0.84848485,\n",
       "       0.85858586, 0.86868687, 0.87878788, 0.88888889, 0.8989899 ,\n",
       "       0.90909091, 0.91919192, 0.92929293, 0.93939394, 0.94949495,\n",
       "       0.95959596, 0.96969697, 0.97979798, 0.98989899, 1.        ])"
      ]
     },
     "execution_count": 301,
     "metadata": {},
     "output_type": "execute_result"
    }
   ],
   "source": [
    "arr  =  np.linspace(0,1,100)\n",
    "arr"
   ]
  },
  {
   "cell_type": "markdown",
   "id": "c5bfedfe-709d-4c73-ac07-338bb970161d",
   "metadata": {},
   "source": [
    "## Random Generation Function"
   ]
  },
  {
   "cell_type": "code",
   "execution_count": 303,
   "id": "827dfece-18b8-4b2f-acf4-6385b3491714",
   "metadata": {},
   "outputs": [
    {
     "data": {
      "text/plain": [
       "array([0.7659478 , 0.8616603 , 0.84931033, 0.03774763, 0.44403825,\n",
       "       0.83428352, 0.62121054, 0.68953244, 0.05982085, 0.58144259])"
      ]
     },
     "execution_count": 303,
     "metadata": {},
     "output_type": "execute_result"
    }
   ],
   "source": [
    "np.random.rand(10)        # Normalization Between 0 to 1 Random Numbers"
   ]
  },
  {
   "cell_type": "code",
   "execution_count": 304,
   "id": "3813df02-bad2-45a9-ad94-020f0e17066e",
   "metadata": {},
   "outputs": [
    {
     "data": {
      "text/plain": [
       "array([ 0.82377159, -1.35493919, -0.32891596,  1.54107136,  0.04423633,\n",
       "       -0.57159523, -2.76351089,  0.49187852, -1.43873052, -0.24652397])"
      ]
     },
     "execution_count": 304,
     "metadata": {},
     "output_type": "execute_result"
    }
   ],
   "source": [
    "np.random.randn(10)       # Standerlization Between -3 to 3"
   ]
  },
  {
   "cell_type": "code",
   "execution_count": 305,
   "id": "70aff09c-766e-4374-852d-7165563b1434",
   "metadata": {},
   "outputs": [
    {
     "data": {
      "text/plain": [
       "3"
      ]
     },
     "execution_count": 305,
     "metadata": {},
     "output_type": "execute_result"
    }
   ],
   "source": [
    "np.random.randint(6)   # Only one Number Generate 0 to 6 "
   ]
  },
  {
   "cell_type": "code",
   "execution_count": 306,
   "id": "a5741a5b-32c2-477b-842a-14b10418d6a6",
   "metadata": {},
   "outputs": [
    {
     "data": {
      "text/plain": [
       "18"
      ]
     },
     "execution_count": 306,
     "metadata": {},
     "output_type": "execute_result"
    }
   ],
   "source": [
    "np.random.randint(10,20)   # Only 10 Number are Generate Between the 10 To 20 Number "
   ]
  },
  {
   "cell_type": "markdown",
   "id": "175d50fc-c947-41e6-832f-ccd417a80d14",
   "metadata": {},
   "source": [
    "# Array Attribute's  \n",
    "(Not Calling() Attribute Its Not Like a Python Methods its a Attribute )"
   ]
  },
  {
   "cell_type": "code",
   "execution_count": 308,
   "id": "093b99aa-f58a-48dc-8969-b39307ed0c8b",
   "metadata": {},
   "outputs": [
    {
     "data": {
      "text/plain": [
       "array([[1, 2, 3],\n",
       "       [4, 5, 6],\n",
       "       [7, 8, 9]])"
      ]
     },
     "execution_count": 308,
     "metadata": {},
     "output_type": "execute_result"
    }
   ],
   "source": [
    "arr = np.array([[1,2,3],[4,5,6],[7,8,9]])\n",
    "arr"
   ]
  },
  {
   "cell_type": "code",
   "execution_count": 309,
   "id": "5cedb9c7-80c6-47dd-a90a-4da8be2bda3c",
   "metadata": {},
   "outputs": [
    {
     "data": {
      "text/plain": [
       "(3, 3)"
      ]
     },
     "execution_count": 309,
     "metadata": {},
     "output_type": "execute_result"
    }
   ],
   "source": [
    "arr.shape   # 3 Rows and 3 Colums"
   ]
  },
  {
   "cell_type": "code",
   "execution_count": 310,
   "id": "5236db3d-270e-4919-bb5f-cdb7c338869f",
   "metadata": {},
   "outputs": [
    {
     "data": {
      "text/plain": [
       "9"
      ]
     },
     "execution_count": 310,
     "metadata": {},
     "output_type": "execute_result"
    }
   ],
   "source": [
    "arr.size   #  how many element"
   ]
  },
  {
   "cell_type": "code",
   "execution_count": 311,
   "id": "48864c6f-5ed1-4494-a53b-47a0e233fc2d",
   "metadata": {},
   "outputs": [
    {
     "data": {
      "text/plain": [
       "dtype('int32')"
      ]
     },
     "execution_count": 311,
     "metadata": {},
     "output_type": "execute_result"
    }
   ],
   "source": [
    "arr.dtype"
   ]
  },
  {
   "cell_type": "markdown",
   "id": "af1826a2-cd10-4048-85c9-d967dba480b1",
   "metadata": {},
   "source": [
    "## Array Methods\n",
    "Calling a Function () Its to not Like a Python and Numpy Attribute"
   ]
  },
  {
   "cell_type": "code",
   "execution_count": 313,
   "id": "7492b8eb-15bf-45c6-aef6-c59b0d0ab9ae",
   "metadata": {},
   "outputs": [
    {
     "data": {
      "text/plain": [
       "array([[1, 2, 3],\n",
       "       [4, 5, 6],\n",
       "       [7, 8, 9]])"
      ]
     },
     "execution_count": 313,
     "metadata": {},
     "output_type": "execute_result"
    }
   ],
   "source": [
    "arr "
   ]
  },
  {
   "cell_type": "code",
   "execution_count": 314,
   "id": "c680e863-a34f-492b-b42d-55b7c94dc1ce",
   "metadata": {},
   "outputs": [
    {
     "data": {
      "text/plain": [
       "1"
      ]
     },
     "execution_count": 314,
     "metadata": {},
     "output_type": "execute_result"
    }
   ],
   "source": [
    "arr.min()"
   ]
  },
  {
   "cell_type": "code",
   "execution_count": 315,
   "id": "d0ac29d9-02c0-414b-bf6c-b01a71edebf8",
   "metadata": {},
   "outputs": [
    {
     "data": {
      "text/plain": [
       "9"
      ]
     },
     "execution_count": 315,
     "metadata": {},
     "output_type": "execute_result"
    }
   ],
   "source": [
    "arr.max()"
   ]
  },
  {
   "cell_type": "code",
   "execution_count": 316,
   "id": "0e33d9ce-0dc5-47cb-a437-0315c7c86490",
   "metadata": {},
   "outputs": [
    {
     "data": {
      "text/plain": [
       "45"
      ]
     },
     "execution_count": 316,
     "metadata": {},
     "output_type": "execute_result"
    }
   ],
   "source": [
    "arr.sum()  # 1 to 9 all elements are sum"
   ]
  },
  {
   "cell_type": "code",
   "execution_count": 317,
   "id": "5ecf3431-4999-4cff-a217-9d9e3287c6fb",
   "metadata": {},
   "outputs": [
    {
     "data": {
      "text/plain": [
       "array([12, 15, 18])"
      ]
     },
     "execution_count": 317,
     "metadata": {},
     "output_type": "execute_result"
    }
   ],
   "source": [
    "np.sum(arr,axis=0)  # Columns Vise Sum  Because of '0' axis"
   ]
  },
  {
   "cell_type": "code",
   "execution_count": 318,
   "id": "07a38b6b-1bc0-4652-92c1-40078b00d0da",
   "metadata": {},
   "outputs": [
    {
     "data": {
      "text/plain": [
       "array([ 6, 15, 24])"
      ]
     },
     "execution_count": 318,
     "metadata": {},
     "output_type": "execute_result"
    }
   ],
   "source": [
    "np.sum(arr,axis=1)  # Rows Vise Sum  Because of '1' axis\n"
   ]
  },
  {
   "cell_type": "code",
   "execution_count": 319,
   "id": "56544654-ddfb-44f0-a3cf-c93f07a8d0f5",
   "metadata": {},
   "outputs": [
    {
     "data": {
      "text/plain": [
       "5.0"
      ]
     },
     "execution_count": 319,
     "metadata": {},
     "output_type": "execute_result"
    }
   ],
   "source": [
    "arr.mean()   # Middle Element"
   ]
  },
  {
   "cell_type": "code",
   "execution_count": 320,
   "id": "b340b0f4-5ff1-4520-8806-a9a2ff7d88e6",
   "metadata": {},
   "outputs": [
    {
     "data": {
      "text/plain": [
       "2.581988897471611"
      ]
     },
     "execution_count": 320,
     "metadata": {},
     "output_type": "execute_result"
    }
   ],
   "source": [
    "arr.std()    # Standard divension"
   ]
  },
  {
   "cell_type": "code",
   "execution_count": 321,
   "id": "c1e3bc35-e4c1-440b-b93d-6204f6354fce",
   "metadata": {},
   "outputs": [
    {
     "data": {
      "text/plain": [
       "8"
      ]
     },
     "execution_count": 321,
     "metadata": {},
     "output_type": "execute_result"
    }
   ],
   "source": [
    "arr.argmax()   # Max Number index Number"
   ]
  },
  {
   "cell_type": "code",
   "execution_count": 322,
   "id": "2935936b-ea79-4b03-b30b-d9025455325d",
   "metadata": {},
   "outputs": [
    {
     "data": {
      "text/plain": [
       "0"
      ]
     },
     "execution_count": 322,
     "metadata": {},
     "output_type": "execute_result"
    }
   ],
   "source": [
    "arr.argmin()   # Minimum Numer Index Number"
   ]
  },
  {
   "cell_type": "markdown",
   "id": "77fd8fc2-d1f2-4719-a449-5ecd777968d8",
   "metadata": {},
   "source": [
    "## Reshaping and Resizing"
   ]
  },
  {
   "cell_type": "code",
   "execution_count": 324,
   "id": "b7b4ff29-9029-4cea-b16d-86d88932275e",
   "metadata": {},
   "outputs": [
    {
     "data": {
      "text/plain": [
       "array([ 1,  2,  3,  4,  5,  6,  7,  8,  9, 10, 11, 12, 13, 14, 15, 16, 17,\n",
       "       18, 19, 20, 21, 22, 23, 24, 25, 26, 27, 28, 29, 30])"
      ]
     },
     "execution_count": 324,
     "metadata": {},
     "output_type": "execute_result"
    }
   ],
   "source": [
    "arr  = np.arange(1,31)\n",
    "arr"
   ]
  },
  {
   "cell_type": "code",
   "execution_count": 325,
   "id": "97b7aee4-63d9-49de-b53a-c32d977053fe",
   "metadata": {},
   "outputs": [
    {
     "data": {
      "text/plain": [
       "array([[ 1,  2,  3,  4,  5],\n",
       "       [ 6,  7,  8,  9, 10],\n",
       "       [11, 12, 13, 14, 15],\n",
       "       [16, 17, 18, 19, 20],\n",
       "       [21, 22, 23, 24, 25],\n",
       "       [26, 27, 28, 29, 30]])"
      ]
     },
     "execution_count": 325,
     "metadata": {},
     "output_type": "execute_result"
    }
   ],
   "source": [
    "arr.reshape(6,5)                   # 6 Row and 5 Colums"
   ]
  },
  {
   "cell_type": "markdown",
   "id": "329a72e6-6f7f-4020-8360-8f93af6da9eb",
   "metadata": {},
   "source": [
    "# Array Indexing and Slicing of Vectors "
   ]
  },
  {
   "cell_type": "code",
   "execution_count": 327,
   "id": "af1fe0e8-cd4c-4508-9aa4-28d0a858bd4d",
   "metadata": {},
   "outputs": [
    {
     "data": {
      "text/plain": [
       "array([11, 12, 13, 14, 15, 16, 17, 18, 19, 20])"
      ]
     },
     "execution_count": 327,
     "metadata": {},
     "output_type": "execute_result"
    }
   ],
   "source": [
    "arr = np.arange(11,21)\n",
    "arr"
   ]
  },
  {
   "cell_type": "code",
   "execution_count": 328,
   "id": "74a19831-a42c-4756-9205-c4f613cd85eb",
   "metadata": {},
   "outputs": [
    {
     "data": {
      "text/plain": [
       "17"
      ]
     },
     "execution_count": 328,
     "metadata": {},
     "output_type": "execute_result"
    }
   ],
   "source": [
    "arr[6]  # Indexing Number "
   ]
  },
  {
   "cell_type": "code",
   "execution_count": 329,
   "id": "a6127771-7573-41a3-b702-0bca2ee0e69a",
   "metadata": {},
   "outputs": [
    {
     "data": {
      "text/plain": [
       "array([11, 12, 13, 14, 15, 16])"
      ]
     },
     "execution_count": 329,
     "metadata": {},
     "output_type": "execute_result"
    }
   ],
   "source": [
    "arr[0:6]          # Slicing "
   ]
  },
  {
   "cell_type": "code",
   "execution_count": 330,
   "id": "defbb396-f059-4e79-a4ad-1a4444a67235",
   "metadata": {},
   "outputs": [
    {
     "data": {
      "text/plain": [
       "array([11, 12, 13, 14, 15, 16, 17, 18, 19, 20])"
      ]
     },
     "execution_count": 330,
     "metadata": {},
     "output_type": "execute_result"
    }
   ],
   "source": [
    "arr_slice=  arr[3::2]\n",
    "arr                                          # 3 Index to last index and 2 step are gap between the value"
   ]
  },
  {
   "cell_type": "markdown",
   "id": "99d3f676-5715-4858-84c7-4f6ad10342d8",
   "metadata": {},
   "source": [
    "## Numpy Indexing and Slicing of Matrix\n"
   ]
  },
  {
   "cell_type": "code",
   "execution_count": 332,
   "id": "68fb45ee-d654-47ce-9a16-2078efadf55b",
   "metadata": {},
   "outputs": [
    {
     "data": {
      "text/plain": [
       "array([[ 1,  2,  3,  4,  5],\n",
       "       [ 6,  7,  8,  9, 10],\n",
       "       [11, 12, 13, 14, 15],\n",
       "       [16, 17, 18, 19, 20],\n",
       "       [21, 22, 23, 24, 25],\n",
       "       [26, 27, 28, 29, 30]])"
      ]
     },
     "execution_count": 332,
     "metadata": {},
     "output_type": "execute_result"
    }
   ],
   "source": [
    "arr  =  np.arange(1,31).reshape(6,5)\n",
    "arr                                         #  There How Many Rows and colums  : (6Row and 5 Coloumns)"
   ]
  },
  {
   "cell_type": "markdown",
   "id": "a8eec056-a489-400f-8f08-2bc9b7daef36",
   "metadata": {},
   "source": [
    "### Indexing"
   ]
  },
  {
   "cell_type": "code",
   "execution_count": 334,
   "id": "14357d66-0b5f-4986-8f4c-ed5d2b4df113",
   "metadata": {},
   "outputs": [
    {
     "data": {
      "text/plain": [
       "array([1, 2, 3, 4, 5])"
      ]
     },
     "execution_count": 334,
     "metadata": {},
     "output_type": "execute_result"
    }
   ],
   "source": [
    "arr[0]"
   ]
  },
  {
   "cell_type": "code",
   "execution_count": 335,
   "id": "71f8872a-2cb2-47eb-b66e-4ca75b974600",
   "metadata": {},
   "outputs": [
    {
     "data": {
      "text/plain": [
       "30"
      ]
     },
     "execution_count": 335,
     "metadata": {},
     "output_type": "execute_result"
    }
   ],
   "source": [
    "arr[5,4]"
   ]
  },
  {
   "cell_type": "markdown",
   "id": "6d6e40d2-c16b-4356-86c1-548796f9c659",
   "metadata": {},
   "source": [
    "### Slicing"
   ]
  },
  {
   "cell_type": "code",
   "execution_count": 337,
   "id": "b84290fb-b47a-4de0-903d-52ea5f58d1a6",
   "metadata": {},
   "outputs": [
    {
     "data": {
      "text/plain": [
       "array([[2, 3],\n",
       "       [7, 8]])"
      ]
     },
     "execution_count": 337,
     "metadata": {},
     "output_type": "execute_result"
    }
   ],
   "source": [
    "slice = arr[0:2,1:3]\n",
    "slice"
   ]
  },
  {
   "cell_type": "code",
   "execution_count": 338,
   "id": "86cd7fa2-9faa-48d3-843f-b07faed85319",
   "metadata": {},
   "outputs": [
    {
     "data": {
      "text/plain": [
       "array([[19, 20],\n",
       "       [24, 25],\n",
       "       [29, 30]])"
      ]
     },
     "execution_count": 338,
     "metadata": {},
     "output_type": "execute_result"
    }
   ],
   "source": [
    "slice  = arr[3:6,3:5]\n",
    "slice"
   ]
  },
  {
   "cell_type": "code",
   "execution_count": 339,
   "id": "be249a71-a59b-4fdc-9250-d2f331cf1112",
   "metadata": {},
   "outputs": [
    {
     "data": {
      "text/plain": [
       "array([ 3,  8, 13, 18, 23, 28])"
      ]
     },
     "execution_count": 339,
     "metadata": {},
     "output_type": "execute_result"
    }
   ],
   "source": [
    "arr[:,2]              # only Coloumns are Select"
   ]
  },
  {
   "cell_type": "markdown",
   "id": "01d3ab38-77d3-43df-a356-9de6d94ec52d",
   "metadata": {},
   "source": [
    "## Boolean Indexing"
   ]
  },
  {
   "cell_type": "code",
   "execution_count": 341,
   "id": "74f57219-5fc9-4236-9d9a-51aea96ba3a4",
   "metadata": {},
   "outputs": [
    {
     "data": {
      "text/plain": [
       "array([11, 12, 13, 14, 15, 16, 17, 18, 19, 20])"
      ]
     },
     "execution_count": 341,
     "metadata": {},
     "output_type": "execute_result"
    }
   ],
   "source": [
    "arr  =  np.arange(11,21)\n",
    "arr"
   ]
  },
  {
   "cell_type": "code",
   "execution_count": 342,
   "id": "b087c386-6914-47a5-b46c-be706cfc35ab",
   "metadata": {},
   "outputs": [
    {
     "data": {
      "text/plain": [
       "array([False,  True, False,  True, False,  True, False,  True, False,\n",
       "        True])"
      ]
     },
     "execution_count": 342,
     "metadata": {},
     "output_type": "execute_result"
    }
   ],
   "source": [
    "bool_index  = arr % 2 ==0\n",
    "bool_index"
   ]
  },
  {
   "cell_type": "code",
   "execution_count": 343,
   "id": "987cb86b-f897-462d-b2b3-aad8061f1c8c",
   "metadata": {},
   "outputs": [
    {
     "data": {
      "text/plain": [
       "array([12, 14, 16, 18, 20])"
      ]
     },
     "execution_count": 343,
     "metadata": {},
     "output_type": "execute_result"
    }
   ],
   "source": [
    "arr  =  arr[bool_index]\n",
    "arr                                           # Even Elements"
   ]
  },
  {
   "cell_type": "markdown",
   "id": "432281e4-b3eb-4e93-b3c7-84a1c79e8906",
   "metadata": {},
   "source": []
  },
  {
   "cell_type": "markdown",
   "id": "93873dc7-106a-47ed-adbd-fcdc699a5f47",
   "metadata": {},
   "source": [
    "# Array Operations\n",
    "  - Operation are perform more than 2 values"
   ]
  },
  {
   "cell_type": "markdown",
   "id": "7e18191c-2da4-4cbc-ac7e-00305b253874",
   "metadata": {},
   "source": [
    "## Arithematic Operation"
   ]
  },
  {
   "cell_type": "code",
   "execution_count": 347,
   "id": "f024951d-2eb2-4d3e-95b3-c7debe73f306",
   "metadata": {},
   "outputs": [],
   "source": [
    "a1 = np.array([1,2,3,4,5])\n",
    "a2 = np.array([6,7,8,9,10])    # Two Variable value are sum addition "
   ]
  },
  {
   "cell_type": "code",
   "execution_count": 348,
   "id": "e12a58b5-c42d-4b93-bf5f-a7ec5d6d63a4",
   "metadata": {},
   "outputs": [
    {
     "data": {
      "text/plain": [
       "array([ 7,  9, 11, 13, 15])"
      ]
     },
     "execution_count": 348,
     "metadata": {},
     "output_type": "execute_result"
    }
   ],
   "source": [
    "arr2 = a1 + a2\n",
    "arr2"
   ]
  },
  {
   "cell_type": "code",
   "execution_count": 349,
   "id": "4c4fe8b2-59e8-497c-9122-1a0dd1d3effc",
   "metadata": {},
   "outputs": [
    {
     "data": {
      "text/plain": [
       "array([-5, -5, -5, -5, -5])"
      ]
     },
     "execution_count": 349,
     "metadata": {},
     "output_type": "execute_result"
    }
   ],
   "source": [
    "arr3 = a1 - a2\n",
    "arr3                    # Two Variable value are substraction addition "
   ]
  },
  {
   "cell_type": "markdown",
   "id": "6adc5c0b-2747-469e-b896-c43adb1cd518",
   "metadata": {},
   "source": [
    "## Broadcasting "
   ]
  },
  {
   "cell_type": "code",
   "execution_count": 351,
   "id": "f34c7df8-fb6a-40d7-8a55-3a6bf2fe5334",
   "metadata": {},
   "outputs": [],
   "source": [
    "l = [10,20,30,40,50]\n",
    "arr = np.array(l)"
   ]
  },
  {
   "cell_type": "code",
   "execution_count": 352,
   "id": "04f24249-34e8-46b8-93db-42673fdfeae8",
   "metadata": {},
   "outputs": [
    {
     "data": {
      "text/plain": [
       "array([15, 25, 35, 45, 55])"
      ]
     },
     "execution_count": 352,
     "metadata": {},
     "output_type": "execute_result"
    }
   ],
   "source": [
    "arr + 5"
   ]
  },
  {
   "cell_type": "code",
   "execution_count": 353,
   "id": "003d6232-5e2b-4a5a-b256-a1e967ed27c6",
   "metadata": {},
   "outputs": [
    {
     "data": {
      "text/plain": [
       "array([[ 1,  2,  3,  4,  5,  6],\n",
       "       [ 7,  8,  9, 10, 11, 12],\n",
       "       [13, 14, 15, 16, 17, 18],\n",
       "       [19, 20, 21, 22, 23, 24],\n",
       "       [25, 26, 27, 28, 29, 30]])"
      ]
     },
     "execution_count": 353,
     "metadata": {},
     "output_type": "execute_result"
    }
   ],
   "source": [
    "arr2  =  np.arange(1,31).reshape(5,6)\n",
    "arr2"
   ]
  },
  {
   "cell_type": "code",
   "execution_count": 354,
   "id": "4db601a3-670e-41df-ba6a-127bd9d27bf0",
   "metadata": {},
   "outputs": [
    {
     "data": {
      "text/plain": [
       "array([[11, 12, 13, 14, 15, 16],\n",
       "       [17, 18, 19, 20, 21, 22],\n",
       "       [23, 24, 25, 26, 27, 28],\n",
       "       [29, 30, 31, 32, 33, 34],\n",
       "       [35, 36, 37, 38, 39, 40]])"
      ]
     },
     "execution_count": 354,
     "metadata": {},
     "output_type": "execute_result"
    }
   ],
   "source": [
    "arr2 + 10"
   ]
  },
  {
   "cell_type": "markdown",
   "id": "75408938-74a1-43b4-8531-5d374349afd5",
   "metadata": {},
   "source": [
    "# Deep and Shallow Copy!"
   ]
  },
  {
   "cell_type": "markdown",
   "id": "71a5094f-6faf-4590-9d96-40d074c74820",
   "metadata": {},
   "source": [
    "### Numpy Array Does not changes a Original array of python Numpy are separte location and id to changes to array\n"
   ]
  },
  {
   "cell_type": "markdown",
   "id": "4c96c313-f66c-4c03-b27e-72bdc1161eae",
   "metadata": {},
   "source": [
    "### Array changes and Slice are Another Location   && ALL array are changes so original array are also changes and new array "
   ]
  },
  {
   "cell_type": "markdown",
   "id": "df612295-367b-4369-bdfb-9f851cd32383",
   "metadata": {},
   "source": [
    "### But ALL Array are not changes on original so one method are given that  \"Copy()\""
   ]
  },
  {
   "cell_type": "code",
   "execution_count": null,
   "id": "b1f6e4fb-69a0-4713-be22-21eff4fe5a0b",
   "metadata": {},
   "outputs": [],
   "source": []
  },
  {
   "cell_type": "code",
   "execution_count": 360,
   "id": "a21e4454-a2c5-4518-b115-f9f546660a4c",
   "metadata": {},
   "outputs": [
    {
     "data": {
      "text/plain": [
       "array([ 1,  2,  3,  4,  5,  6,  7,  8,  9, 10, 11, 12, 13, 14, 15, 16, 17,\n",
       "       18, 19, 20])"
      ]
     },
     "execution_count": 360,
     "metadata": {},
     "output_type": "execute_result"
    }
   ],
   "source": [
    "a = np.arange(1,21)\n",
    "a"
   ]
  },
  {
   "cell_type": "markdown",
   "id": "9ccbe5fc-5d51-41a9-817e-932ad70e9d4a",
   "metadata": {},
   "source": [
    "#### slice"
   ]
  },
  {
   "cell_type": "code",
   "execution_count": 362,
   "id": "e06c750c-e02e-4686-b0f5-0f59c50bfa16",
   "metadata": {},
   "outputs": [
    {
     "data": {
      "text/plain": [
       "array([10, 20, 30, 40, 50])"
      ]
     },
     "execution_count": 362,
     "metadata": {},
     "output_type": "execute_result"
    }
   ],
   "source": [
    "slice = a[:5]\n",
    "slice = slice*10\n",
    "slice"
   ]
  },
  {
   "cell_type": "code",
   "execution_count": 363,
   "id": "16e79a67-b833-4885-bc4e-5a6a78e0fbf4",
   "metadata": {},
   "outputs": [
    {
     "data": {
      "text/plain": [
       "array([ 1,  2,  3,  4,  5,  6,  7,  8,  9, 10, 11, 12, 13, 14, 15, 16, 17,\n",
       "       18, 19, 20])"
      ]
     },
     "execution_count": 363,
     "metadata": {},
     "output_type": "execute_result"
    }
   ],
   "source": [
    "a"
   ]
  },
  {
   "cell_type": "code",
   "execution_count": 364,
   "id": "7a92f2ed-c28e-40a0-8287-b02e10ee7936",
   "metadata": {},
   "outputs": [
    {
     "data": {
      "text/plain": [
       "array([50, 60])"
      ]
     },
     "execution_count": 364,
     "metadata": {},
     "output_type": "execute_result"
    }
   ],
   "source": [
    "a[4:6]*10"
   ]
  },
  {
   "cell_type": "code",
   "execution_count": 365,
   "id": "0da66a3f-44b5-4dfe-9123-df582cf526e2",
   "metadata": {},
   "outputs": [
    {
     "data": {
      "text/plain": [
       "array([ 1,  2,  3,  4,  5,  6,  7,  8,  9, 10, 11, 12, 13, 14, 15, 16, 17,\n",
       "       18, 19, 20])"
      ]
     },
     "execution_count": 365,
     "metadata": {},
     "output_type": "execute_result"
    }
   ],
   "source": [
    "a"
   ]
  },
  {
   "cell_type": "code",
   "execution_count": 366,
   "id": "7362b4d8-4b51-449b-b087-7a76cb9b2cfc",
   "metadata": {},
   "outputs": [],
   "source": [
    "a\n",
    "b= a"
   ]
  },
  {
   "cell_type": "code",
   "execution_count": 367,
   "id": "4ba5a615-fffa-4482-b048-61d4cba04878",
   "metadata": {},
   "outputs": [],
   "source": [
    "b[0] = 99"
   ]
  },
  {
   "cell_type": "code",
   "execution_count": 368,
   "id": "d0178bca-3da0-43ae-953c-917729cf7b7f",
   "metadata": {},
   "outputs": [
    {
     "data": {
      "text/plain": [
       "array([99,  2,  3,  4,  5,  6,  7,  8,  9, 10, 11, 12, 13, 14, 15, 16, 17,\n",
       "       18, 19, 20])"
      ]
     },
     "execution_count": 368,
     "metadata": {},
     "output_type": "execute_result"
    }
   ],
   "source": [
    "b"
   ]
  },
  {
   "cell_type": "code",
   "execution_count": 369,
   "id": "d138fbb9-d6a1-4ae8-ac78-859a5e91caa0",
   "metadata": {},
   "outputs": [
    {
     "data": {
      "text/plain": [
       "array([99,  2,  3,  4,  5,  6,  7,  8,  9, 10, 11, 12, 13, 14, 15, 16, 17,\n",
       "       18, 19, 20])"
      ]
     },
     "execution_count": 369,
     "metadata": {},
     "output_type": "execute_result"
    }
   ],
   "source": [
    "a"
   ]
  },
  {
   "cell_type": "code",
   "execution_count": 370,
   "id": "42d63899-7928-4a5f-98d8-b65caa676dee",
   "metadata": {},
   "outputs": [],
   "source": [
    "a\n",
    "b = a.copy()"
   ]
  },
  {
   "cell_type": "code",
   "execution_count": 371,
   "id": "6d864344-03a2-49e8-b4de-1104a56b637d",
   "metadata": {},
   "outputs": [],
   "source": [
    "b[0]=100"
   ]
  },
  {
   "cell_type": "code",
   "execution_count": 372,
   "id": "b5cf92fe-4d17-4750-a946-8a35867aa594",
   "metadata": {},
   "outputs": [
    {
     "data": {
      "text/plain": [
       "array([100,   2,   3,   4,   5,   6,   7,   8,   9,  10,  11,  12,  13,\n",
       "        14,  15,  16,  17,  18,  19,  20])"
      ]
     },
     "execution_count": 372,
     "metadata": {},
     "output_type": "execute_result"
    }
   ],
   "source": [
    "b"
   ]
  },
  {
   "cell_type": "code",
   "execution_count": 373,
   "id": "f0010483-8bec-4175-8cbd-7e1673e9a28f",
   "metadata": {},
   "outputs": [
    {
     "data": {
      "text/plain": [
       "array([99,  2,  3,  4,  5,  6,  7,  8,  9, 10, 11, 12, 13, 14, 15, 16, 17,\n",
       "       18, 19, 20])"
      ]
     },
     "execution_count": 373,
     "metadata": {},
     "output_type": "execute_result"
    }
   ],
   "source": [
    "a"
   ]
  },
  {
   "cell_type": "markdown",
   "id": "25dfeedf-f3d4-4e3c-9c4b-17b3f49acde8",
   "metadata": {},
   "source": [
    "## Matrix Operation"
   ]
  },
  {
   "cell_type": "code",
   "execution_count": 375,
   "id": "e8b3aa61-ae43-4bdc-b5d5-c84e3a003b2d",
   "metadata": {},
   "outputs": [],
   "source": [
    "A = np.array([[1,2],[3,4]])\n",
    "B = np.array([[5,6],[7,8]])"
   ]
  },
  {
   "cell_type": "code",
   "execution_count": 376,
   "id": "0136ff73-5463-4a60-a788-3d2c076f2a92",
   "metadata": {},
   "outputs": [
    {
     "data": {
      "text/plain": [
       "array([[1, 2],\n",
       "       [3, 4]])"
      ]
     },
     "execution_count": 376,
     "metadata": {},
     "output_type": "execute_result"
    }
   ],
   "source": [
    "A\n"
   ]
  },
  {
   "cell_type": "code",
   "execution_count": 377,
   "id": "a71f3b84-5dc4-4a48-a32d-a45661f1ca93",
   "metadata": {},
   "outputs": [
    {
     "data": {
      "text/plain": [
       "array([[5, 6],\n",
       "       [7, 8]])"
      ]
     },
     "execution_count": 377,
     "metadata": {},
     "output_type": "execute_result"
    }
   ],
   "source": [
    "B"
   ]
  },
  {
   "cell_type": "code",
   "execution_count": 378,
   "id": "133211d2-7669-4f6a-829d-5ecf6254749a",
   "metadata": {},
   "outputs": [
    {
     "data": {
      "text/plain": [
       "array([[ 5, 12],\n",
       "       [21, 32]])"
      ]
     },
     "execution_count": 378,
     "metadata": {},
     "output_type": "execute_result"
    }
   ],
   "source": [
    "A * B   # They are Multiply on INdexing "
   ]
  },
  {
   "cell_type": "markdown",
   "id": "9c50827a-30d7-4671-8af7-28d90d844c80",
   "metadata": {},
   "source": [
    "### Matric Multiplication"
   ]
  },
  {
   "cell_type": "code",
   "execution_count": 416,
   "id": "ec040af0-db7a-4324-86c8-8ea32f38cca4",
   "metadata": {},
   "outputs": [
    {
     "data": {
      "text/plain": [
       "array([[19, 22],\n",
       "       [43, 50]])"
      ]
     },
     "execution_count": 416,
     "metadata": {},
     "output_type": "execute_result"
    }
   ],
   "source": [
    "A @ B"
   ]
  },
  {
   "cell_type": "code",
   "execution_count": 450,
   "id": "28fb0b1d-2afa-448d-bf85-0f8af293c5b8",
   "metadata": {},
   "outputs": [
    {
     "data": {
      "text/plain": [
       "array([[19, 22],\n",
       "       [43, 50]])"
      ]
     },
     "execution_count": 450,
     "metadata": {},
     "output_type": "execute_result"
    }
   ],
   "source": [
    "np.dot(A,B)"
   ]
  },
  {
   "cell_type": "markdown",
   "id": "9afa42e3-2642-49f4-b44b-f60b675a5e74",
   "metadata": {},
   "source": [
    "### Transpose"
   ]
  },
  {
   "cell_type": "code",
   "execution_count": 452,
   "id": "86eea641-20a2-4b28-a9cb-7606abb57d0b",
   "metadata": {},
   "outputs": [
    {
     "data": {
      "text/plain": [
       "array([[1, 3],\n",
       "       [2, 4]])"
      ]
     },
     "execution_count": 452,
     "metadata": {},
     "output_type": "execute_result"
    }
   ],
   "source": [
    "A.T"
   ]
  },
  {
   "cell_type": "markdown",
   "id": "7f5aa989-1621-4bf9-a2d8-d9132d3219d6",
   "metadata": {},
   "source": [
    "## Advanced Array Manipulation "
   ]
  },
  {
   "cell_type": "markdown",
   "id": "6bcecdcc-4428-4d66-937e-2da0cf62f4aa",
   "metadata": {},
   "source": [
    "### Stacking Array (2 Arrays are Merged  Ya Joint)\n",
    " - 2 Matrix are not Stack\n",
    " - 2 Vector Mean one Dimension array Are Stack Possible"
   ]
  },
  {
   "cell_type": "code",
   "execution_count": 455,
   "id": "8057967b-3801-4c4e-8cc2-a62b48a46ae1",
   "metadata": {},
   "outputs": [],
   "source": [
    "a = np.array([1,2,3,4])\n",
    "b= np.array([5,6,7,8])"
   ]
  },
  {
   "cell_type": "markdown",
   "id": "b3e21f69-b362-4947-a8f6-14610acc3f88",
   "metadata": {},
   "source": [
    "####  There are  3 Types of Stack \n",
    "  - Vertical Stack \n",
    "  - Horizontal Stack \n",
    "  - Simple Stack "
   ]
  },
  {
   "cell_type": "code",
   "execution_count": 457,
   "id": "75a8b9fd-591d-4ff8-9c27-b687dfa8fca6",
   "metadata": {},
   "outputs": [
    {
     "data": {
      "text/plain": [
       "array([[1, 2, 3, 4],\n",
       "       [5, 6, 7, 8]])"
      ]
     },
     "execution_count": 457,
     "metadata": {},
     "output_type": "execute_result"
    }
   ],
   "source": [
    "np.vstack((a,b))   # Vertical Stack only one Argument are Rescieved"
   ]
  },
  {
   "cell_type": "code",
   "execution_count": 458,
   "id": "aa07cf0c-d942-4e38-9682-957f9575b1c9",
   "metadata": {},
   "outputs": [
    {
     "data": {
      "text/plain": [
       "array([1, 2, 3, 4, 5, 6, 7, 8])"
      ]
     },
     "execution_count": 458,
     "metadata": {},
     "output_type": "execute_result"
    }
   ],
   "source": [
    "np.hstack((a,b))      # Horizontal stack Only one Argument"
   ]
  },
  {
   "cell_type": "code",
   "execution_count": 459,
   "id": "62b24d4d-fa09-4603-a6ce-4d86ad2ee122",
   "metadata": {},
   "outputs": [
    {
     "data": {
      "text/plain": [
       "array([[1, 5],\n",
       "       [2, 6],\n",
       "       [3, 7],\n",
       "       [4, 8]])"
      ]
     },
     "execution_count": 459,
     "metadata": {},
     "output_type": "execute_result"
    }
   ],
   "source": [
    "np.column_stack((a,b))"
   ]
  },
  {
   "cell_type": "markdown",
   "id": "ef2ef648-9f4e-4385-abc1-7c213c324ad0",
   "metadata": {},
   "source": [
    "## Splitting Array \n",
    "  - Horizontal Split\n",
    "  - Vertical Split"
   ]
  },
  {
   "cell_type": "code",
   "execution_count": 461,
   "id": "980dfacc-1a09-4e34-931f-7e3bb3271716",
   "metadata": {},
   "outputs": [
    {
     "data": {
      "text/plain": [
       "array([[ 0,  1,  2,  3],\n",
       "       [ 4,  5,  6,  7],\n",
       "       [ 8,  9, 10, 11],\n",
       "       [12, 13, 14, 15]])"
      ]
     },
     "execution_count": 461,
     "metadata": {},
     "output_type": "execute_result"
    }
   ],
   "source": [
    "c = np.arange(16).reshape(4,4)\n",
    "c"
   ]
  },
  {
   "cell_type": "code",
   "execution_count": 462,
   "id": "e15aa487-a6fe-41d5-a04e-b622907e7bce",
   "metadata": {},
   "outputs": [
    {
     "data": {
      "text/plain": [
       "[array([[ 0,  1],\n",
       "        [ 4,  5],\n",
       "        [ 8,  9],\n",
       "        [12, 13]]),\n",
       " array([[ 2,  3],\n",
       "        [ 6,  7],\n",
       "        [10, 11],\n",
       "        [14, 15]])]"
      ]
     },
     "execution_count": 462,
     "metadata": {},
     "output_type": "execute_result"
    }
   ],
   "source": [
    "np.hsplit(c,2)   # Horizontally Split 2 Parts are Split"
   ]
  },
  {
   "cell_type": "code",
   "execution_count": 463,
   "id": "7d2b740a-e814-428b-8b82-46395d804edf",
   "metadata": {},
   "outputs": [
    {
     "data": {
      "text/plain": [
       "[array([[0, 1, 2, 3],\n",
       "        [4, 5, 6, 7]]),\n",
       " array([[ 8,  9, 10, 11],\n",
       "        [12, 13, 14, 15]])]"
      ]
     },
     "execution_count": 463,
     "metadata": {},
     "output_type": "execute_result"
    }
   ],
   "source": [
    "np.vsplit(c,2) # Vertically Split 2 Parts are Split"
   ]
  },
  {
   "cell_type": "code",
   "execution_count": null,
   "id": "c34c52af-4805-470e-bff9-7f282daa4425",
   "metadata": {},
   "outputs": [],
   "source": []
  },
  {
   "cell_type": "code",
   "execution_count": null,
   "id": "de53f834-5e04-4d0b-98df-116d9258f389",
   "metadata": {},
   "outputs": [],
   "source": []
  },
  {
   "cell_type": "markdown",
   "id": "09ce1427-b040-4357-9712-5888c15cdbc2",
   "metadata": {},
   "source": [
    "# Exercise Numpy Practice Project"
   ]
  },
  {
   "cell_type": "markdown",
   "id": "3f3dac27-40c6-42cb-945e-cd22bf43439d",
   "metadata": {},
   "source": [
    "## *** Valid Sudoko"
   ]
  },
  {
   "cell_type": "code",
   "execution_count": 470,
   "id": "befc84b5-72f3-4306-9765-394319045715",
   "metadata": {},
   "outputs": [],
   "source": [
    "s = np.array([\n",
    "    [5, 3, 4, 6, 7, 8, 9, 1, 2],\n",
    "    [6, 7, 2, 1, 9, 5, 3, 4, 8],\n",
    "    [1, 9, 8, 3, 4, 2, 5, 6, 7],\n",
    "    \n",
    "    [8, 5, 9, 7, 6, 1, 4, 2, 3],\n",
    "    [4, 2, 6, 8, 5, 3, 7, 9, 1],\n",
    "    [7, 1, 3, 9, 2, 4, 8, 5, 6],\n",
    "    \n",
    "    [9, 6, 1, 5, 3, 7, 2, 8, 4],\n",
    "    [2, 8, 7, 4, 1, 9, 6, 3, 5],\n",
    "    [3, 4, 5, 2, 8, 6, 1, 7, 9]\n",
    "])"
   ]
  },
  {
   "cell_type": "code",
   "execution_count": 479,
   "id": "264f7244-2707-4f0f-b3cf-74e859651b43",
   "metadata": {},
   "outputs": [
    {
     "data": {
      "text/plain": [
       "405"
      ]
     },
     "execution_count": 479,
     "metadata": {},
     "output_type": "execute_result"
    }
   ],
   "source": [
    "s.sum()"
   ]
  },
  {
   "cell_type": "markdown",
   "id": "f3662b0a-0efa-4cdd-b875-5a5bec991699",
   "metadata": {},
   "source": [
    "#### ALl Rows are Sum "
   ]
  },
  {
   "cell_type": "code",
   "execution_count": 482,
   "id": "4f8efaf8-ea4e-4253-84e2-bad6823e4ca7",
   "metadata": {},
   "outputs": [
    {
     "data": {
      "text/plain": [
       "array([45, 45, 45, 45, 45, 45, 45, 45, 45])"
      ]
     },
     "execution_count": 482,
     "metadata": {},
     "output_type": "execute_result"
    }
   ],
   "source": [
    "b = np.sum(s,axis=1)      #          1 Axis are Row Define and sum are all Rows\n",
    "b[b==45]"
   ]
  },
  {
   "cell_type": "code",
   "execution_count": 483,
   "id": "6646d13e-8e04-4372-817c-079e9420fb16",
   "metadata": {},
   "outputs": [
    {
     "data": {
      "text/plain": [
       "array([45, 45, 45, 45, 45, 45, 45, 45, 45])"
      ]
     },
     "execution_count": 483,
     "metadata": {},
     "output_type": "execute_result"
    }
   ],
   "source": [
    "c = np.sum(s,axis=0)      #         0 Axis are Columns Define and sum are all Columns\n",
    "c"
   ]
  },
  {
   "cell_type": "markdown",
   "id": "86410112-8bd5-4381-ae9d-95cc5fabc485",
   "metadata": {},
   "source": [
    "### Every Block are Acess\n"
   ]
  },
  {
   "cell_type": "code",
   "execution_count": 488,
   "id": "83dc4000-9d8d-4222-b0e7-7956bac25be2",
   "metadata": {},
   "outputs": [
    {
     "data": {
      "text/plain": [
       "array([[5, 3, 4],\n",
       "       [6, 7, 2],\n",
       "       [1, 9, 8]])"
      ]
     },
     "execution_count": 488,
     "metadata": {},
     "output_type": "execute_result"
    }
   ],
   "source": [
    "s[0:3,0:3]     # Fisrt Blocl"
   ]
  },
  {
   "cell_type": "code",
   "execution_count": 490,
   "id": "6f264afe-9473-437f-a12b-9c6fa870b033",
   "metadata": {},
   "outputs": [
    {
     "data": {
      "text/plain": [
       "array([[6, 7, 8],\n",
       "       [1, 9, 5],\n",
       "       [3, 4, 2]])"
      ]
     },
     "execution_count": 490,
     "metadata": {},
     "output_type": "execute_result"
    }
   ],
   "source": [
    "s[0:3,3:6]    # 2nd blo"
   ]
  },
  {
   "cell_type": "code",
   "execution_count": 500,
   "id": "3dec7a94-992d-4cab-bdc9-592b2dd0395d",
   "metadata": {},
   "outputs": [
    {
     "data": {
      "text/plain": [
       "array([[5, 3, 4, 6, 7, 8, 9, 1, 2],\n",
       "       [6, 7, 2, 1, 9, 5, 3, 4, 8],\n",
       "       [1, 9, 8, 3, 4, 2, 5, 6, 7],\n",
       "       [8, 5, 9, 7, 6, 1, 4, 2, 3],\n",
       "       [4, 2, 6, 8, 5, 3, 7, 9, 1],\n",
       "       [7, 1, 3, 9, 2, 4, 8, 5, 6],\n",
       "       [9, 6, 1, 5, 3, 7, 2, 8, 4],\n",
       "       [2, 8, 7, 4, 1, 9, 6, 3, 5],\n",
       "       [3, 4, 5, 2, 8, 6, 1, 7, 9]])"
      ]
     },
     "execution_count": 500,
     "metadata": {},
     "output_type": "execute_result"
    }
   ],
   "source": [
    "s"
   ]
  },
  {
   "cell_type": "code",
   "execution_count": 508,
   "id": "a8796970-7366-4539-a2e2-e72c3eec0d05",
   "metadata": {},
   "outputs": [
    {
     "name": "stdout",
     "output_type": "stream",
     "text": [
      "45\n",
      "45\n",
      "45\n",
      "45\n",
      "45\n",
      "45\n",
      "45\n",
      "45\n",
      "45\n"
     ]
    }
   ],
   "source": [
    "for i in range(0,9,3):                  # All Block are SUM 45\n",
    "    for j in range(0,9,3):\n",
    "        n = s[i:i+3,j:j+3]\n",
    "        print(n.sum())"
   ]
  },
  {
   "cell_type": "markdown",
   "id": "f0ee1698-bded-4186-b14b-9f8c71a9ee60",
   "metadata": {},
   "source": [
    "## General Question Base on Data Analysis"
   ]
  },
  {
   "cell_type": "code",
   "execution_count": 611,
   "id": "abe407a4-2a57-4f61-8778-466bf2682646",
   "metadata": {},
   "outputs": [],
   "source": [
    "import numpy as np\n",
    "\n",
    "# Columns: [Age, Math Marks, Science Marks]\n",
    "data = np.array([\n",
    "    [18, 85, 78],   # Student 1\n",
    "    [19, 92, 88],   # Student 2\n",
    "    [17, 76, 95],   # Student 3\n",
    "    [18, 65, 70],   # Student 4\n",
    "    [20, 90, 85]    # Student 5\n",
    "])"
   ]
  },
  {
   "cell_type": "code",
   "execution_count": 613,
   "id": "acf9922e-419c-43c0-b25d-3252ddcf8606",
   "metadata": {},
   "outputs": [],
   "source": [
    "# - Get the shape of the matrix."
   ]
  },
  {
   "cell_type": "code",
   "execution_count": 615,
   "id": "310d4346-342d-421f-8582-d036381e2776",
   "metadata": {},
   "outputs": [
    {
     "data": {
      "text/plain": [
       "(5, 3)"
      ]
     },
     "execution_count": 615,
     "metadata": {},
     "output_type": "execute_result"
    }
   ],
   "source": [
    "data.shape    # Shape is Instance Attribute"
   ]
  },
  {
   "cell_type": "code",
   "execution_count": 617,
   "id": "72e19441-e12c-4a7f-b97e-2ee12b309587",
   "metadata": {},
   "outputs": [],
   "source": [
    "# - Find the average age of students."
   ]
  },
  {
   "cell_type": "code",
   "execution_count": 619,
   "id": "6fafa974-13c2-41b7-9f56-4bcbc61cc2c0",
   "metadata": {},
   "outputs": [
    {
     "data": {
      "text/plain": [
       "18.4"
      ]
     },
     "execution_count": 619,
     "metadata": {},
     "output_type": "execute_result"
    }
   ],
   "source": [
    "np.mean(data[:,0])"
   ]
  },
  {
   "cell_type": "code",
   "execution_count": 621,
   "id": "4a24530d-f413-453c-8bca-4e38b8a750f1",
   "metadata": {},
   "outputs": [],
   "source": [
    "# - Extract Math marks of all students."
   ]
  },
  {
   "cell_type": "code",
   "execution_count": 623,
   "id": "0c53bfc8-17eb-4fb2-bb32-0275fc929222",
   "metadata": {},
   "outputs": [
    {
     "data": {
      "text/plain": [
       "array([85, 92, 76, 65, 90])"
      ]
     },
     "execution_count": 623,
     "metadata": {},
     "output_type": "execute_result"
    }
   ],
   "source": [
    "data[:,1]"
   ]
  },
  {
   "cell_type": "code",
   "execution_count": 625,
   "id": "d695ca78-c8b8-4b4e-bcb4-80e0b5868971",
   "metadata": {},
   "outputs": [],
   "source": [
    " # - Find the highest Science mark."
   ]
  },
  {
   "cell_type": "code",
   "execution_count": 627,
   "id": "87a8a291-0957-41d2-a04d-fe4f1a91dfbb",
   "metadata": {},
   "outputs": [
    {
     "data": {
      "text/plain": [
       "95"
      ]
     },
     "execution_count": 627,
     "metadata": {},
     "output_type": "execute_result"
    }
   ],
   "source": [
    "np.max(data[:,2])"
   ]
  },
  {
   "cell_type": "code",
   "execution_count": 629,
   "id": "1524ae7e-be15-4c9f-b1f3-5beb2a72ff6b",
   "metadata": {},
   "outputs": [],
   "source": [
    "#- Get details of the student who scored more than 90 in Math."
   ]
  },
  {
   "cell_type": "code",
   "execution_count": 631,
   "id": "bd53363a-3e36-4eae-a8d4-b13a1d92384e",
   "metadata": {},
   "outputs": [
    {
     "data": {
      "text/plain": [
       "array([[19, 92, 88]])"
      ]
     },
     "execution_count": 631,
     "metadata": {},
     "output_type": "execute_result"
    }
   ],
   "source": [
    "data[data[:,1] > 90]"
   ]
  },
  {
   "cell_type": "code",
   "execution_count": 633,
   "id": "608b6584-0508-44a8-9e7a-11099ed8875b",
   "metadata": {},
   "outputs": [
    {
     "data": {
      "text/plain": [
       "array([[18, 85, 78],\n",
       "       [19, 92, 88],\n",
       "       [17, 76, 95],\n",
       "       [18, 65, 70],\n",
       "       [20, 90, 85]])"
      ]
     },
     "execution_count": 633,
     "metadata": {},
     "output_type": "execute_result"
    }
   ],
   "source": [
    "data"
   ]
  },
  {
   "cell_type": "code",
   "execution_count": 691,
   "id": "9e1cf8f7-de0b-4801-9ec0-0b07219a3f14",
   "metadata": {},
   "outputs": [],
   "source": [
    "# - Increase Math marks of all students by 5."
   ]
  },
  {
   "cell_type": "code",
   "execution_count": 693,
   "id": "27fc5a0d-4ccf-4d29-80ff-4c3f97df3ad2",
   "metadata": {},
   "outputs": [
    {
     "data": {
      "text/plain": [
       "array([[ 18,  95,  78],\n",
       "       [ 19, 102,  88],\n",
       "       [ 17,  86,  95],\n",
       "       [  0,   5,   0],\n",
       "       [ 20, 100,  85]])"
      ]
     },
     "execution_count": 693,
     "metadata": {},
     "output_type": "execute_result"
    }
   ],
   "source": [
    " data[:,1] += 5\n",
    "data"
   ]
  },
  {
   "cell_type": "code",
   "execution_count": 695,
   "id": "5d2c8488-bf36-48ee-b897-02e77bd35e05",
   "metadata": {},
   "outputs": [],
   "source": [
    "# - Find how many students are younger than 19."
   ]
  },
  {
   "cell_type": "code",
   "execution_count": 697,
   "id": "aefeed01-2fed-4045-9cdb-bd93fdac6884",
   "metadata": {},
   "outputs": [
    {
     "data": {
      "text/plain": [
       "3"
      ]
     },
     "execution_count": 697,
     "metadata": {},
     "output_type": "execute_result"
    }
   ],
   "source": [
    "len(data[data[:,0]<19])"
   ]
  },
  {
   "cell_type": "code",
   "execution_count": 699,
   "id": "44623904-cde7-4ad4-8ff7-b346d6f8fce2",
   "metadata": {},
   "outputs": [],
   "source": [
    "#- Calculate the average marks in each subject (column-wise mean)."
   ]
  },
  {
   "cell_type": "code",
   "execution_count": 701,
   "id": "9ae38a12-f454-4e15-a1b3-626eec9ec05a",
   "metadata": {},
   "outputs": [
    {
     "data": {
      "text/plain": [
       "array([77.6, 69.2])"
      ]
     },
     "execution_count": 701,
     "metadata": {},
     "output_type": "execute_result"
    }
   ],
   "source": [
    "np.mean(data[:,1:],axis=0)"
   ]
  },
  {
   "cell_type": "code",
   "execution_count": 703,
   "id": "8995870c-5f87-4046-bd9e-9394ea1c4e10",
   "metadata": {},
   "outputs": [],
   "source": [
    "#- Get data of students who scored at least 80 in both subjects."
   ]
  },
  {
   "cell_type": "code",
   "execution_count": 705,
   "id": "5c49b07a-17e1-4ced-8197-4277fc11a6f8",
   "metadata": {},
   "outputs": [
    {
     "data": {
      "text/plain": [
       "array([[ 19, 102,  88],\n",
       "       [ 17,  86,  95],\n",
       "       [ 20, 100,  85]])"
      ]
     },
     "execution_count": 705,
     "metadata": {},
     "output_type": "execute_result"
    }
   ],
   "source": [
    "data[(data[:,1]>=80)& (data[:,2]>=80)]"
   ]
  },
  {
   "cell_type": "code",
   "execution_count": 707,
   "id": "87fed2ff-f394-4da7-b83f-67369a37dbff",
   "metadata": {},
   "outputs": [],
   "source": [
    "#- Replace all Science marks < 75 with 0."
   ]
  },
  {
   "cell_type": "code",
   "execution_count": 709,
   "id": "683cff9a-8cef-4ae3-bca4-07b39c5f9bb0",
   "metadata": {},
   "outputs": [],
   "source": [
    "data[:,2][data[:,2]<75] = 0"
   ]
  },
  {
   "cell_type": "code",
   "execution_count": 711,
   "id": "2257712c-706d-496a-bfec-d9d608e3bbfa",
   "metadata": {},
   "outputs": [
    {
     "data": {
      "text/plain": [
       "array([[ 18,  95,  78],\n",
       "       [ 19, 102,  88],\n",
       "       [ 17,  86,  95],\n",
       "       [  0,   5,   0],\n",
       "       [ 20, 100,  85]])"
      ]
     },
     "execution_count": 711,
     "metadata": {},
     "output_type": "execute_result"
    }
   ],
   "source": [
    "data"
   ]
  },
  {
   "cell_type": "code",
   "execution_count": null,
   "id": "3a33271c-71a3-4664-a953-9e7a6256c2dc",
   "metadata": {},
   "outputs": [],
   "source": []
  },
  {
   "cell_type": "code",
   "execution_count": null,
   "id": "049182e8-72d5-4963-97a6-88e91539ee32",
   "metadata": {},
   "outputs": [],
   "source": []
  }
 ],
 "metadata": {
  "kernelspec": {
   "display_name": "Python 3 (ipykernel)",
   "language": "python",
   "name": "python3"
  },
  "language_info": {
   "codemirror_mode": {
    "name": "ipython",
    "version": 3
   },
   "file_extension": ".py",
   "mimetype": "text/x-python",
   "name": "python",
   "nbconvert_exporter": "python",
   "pygments_lexer": "ipython3",
   "version": "3.12.7"
  }
 },
 "nbformat": 4,
 "nbformat_minor": 5
}
